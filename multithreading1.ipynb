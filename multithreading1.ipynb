{
 "cells": [
  {
   "cell_type": "markdown",
   "metadata": {},
   "source": [
    "Q.1 What is multithreading in python? Why is it used? Name the module used to handle threads in python"
   ]
  },
  {
   "cell_type": "markdown",
   "metadata": {},
   "source": [
    "# Multithreading:\n",
    "   Multithreading is a programming concept where multiple threads (smaller units of a process) run independently within a single program, allowing for parallel execution of tasks. In Python, the threading module is used to implement multithreading.\n",
    "\n",
    "* Why is Multithreading Used:\n",
    "\n",
    "1. Concurrency: Multithreading enables concurrent execution of tasks. Different threads can execute different parts of a program simultaneously, which can improve overall performance.\n",
    "2. Responsiveness: Multithreading is useful in scenarios where a program needs to remain responsive to user input or external events while performing other tasks in the background.\n",
    "3. Resource Sharing: Threads within a process share the same resources, such as memory space, which can be beneficial for data sharing among threads.\n",
    "4. Parallelism: While Python's Global Interpreter Lock (GIL) limits true parallel execution of threads in CPython (the standard Python implementation), multithreading can still be beneficial for I/O-bound tasks and certain types of parallelism.\n",
    "\n",
    "* Module for Handling Threads in Python:\n",
    "\n",
    "The threading module is commonly used to handle threads in Python. It provides a way to create and manage threads, allowing you to spawn new threads, synchronize their execution, and coordinate their behavior. The Thread class in the threading module is used to create and manage threads."
   ]
  },
  {
   "cell_type": "markdown",
   "metadata": {},
   "source": [
    "Q2. Why threading module used? write the use of the following functions:\n",
    "1. activeCount() \n",
    "2. currentThread()\n",
    "3. enumerate()"
   ]
  },
  {
   "cell_type": "markdown",
   "metadata": {},
   "source": [
    "The threading module in Python is used for creating and managing threads. It provides a high-level, object-oriented interface for working with threads, making it easier to incorporate multithreading into Python programs."
   ]
  },
  {
   "cell_type": "markdown",
   "metadata": {},
   "source": [
    "1. activeCount() Function:\n",
    "\n",
    "     Use: The activeCount() function is used to get the current number of  Thread objects that are alive (i.e., currently running) in the program."
   ]
  },
  {
   "cell_type": "code",
   "execution_count": 1,
   "metadata": {},
   "outputs": [
    {
     "name": "stdout",
     "output_type": "stream",
     "text": [
      "Thread is running.Active threads: 7\n"
     ]
    },
    {
     "name": "stderr",
     "output_type": "stream",
     "text": [
      "C:\\Users\\POOJA\\AppData\\Local\\Temp\\ipykernel_15344\\3461183277.py:8: DeprecationWarning: activeCount() is deprecated, use active_count() instead\n",
      "  print(\"Active threads:\" , threading.activeCount())\n"
     ]
    },
    {
     "name": "stdout",
     "output_type": "stream",
     "text": [
      "\n"
     ]
    }
   ],
   "source": [
    "import threading\n",
    "def test1():\n",
    "    print(\"Thread is running.\")\n",
    "\n",
    "thread = threading.Thread(target=test1)\n",
    "thread.start()\n",
    "\n",
    "print(\"Active threads:\" , threading.activeCount())"
   ]
  },
  {
   "cell_type": "markdown",
   "metadata": {},
   "source": [
    "2. currentThread() Function:\n",
    "\n",
    "    Use: The currentThread() function is used to get the current Thread object corresponding to the calling thread."
   ]
  },
  {
   "cell_type": "code",
   "execution_count": 2,
   "metadata": {},
   "outputs": [
    {
     "name": "stdout",
     "output_type": "stream",
     "text": [
      "Current Thread name: Thread-6 (test2)\n"
     ]
    },
    {
     "name": "stderr",
     "output_type": "stream",
     "text": [
      "C:\\Users\\POOJA\\AppData\\Local\\Temp\\ipykernel_15344\\1077536791.py:2: DeprecationWarning: currentThread() is deprecated, use current_thread() instead\n",
      "  current_thread = threading.currentThread()\n"
     ]
    }
   ],
   "source": [
    "def test2():\n",
    "    current_thread = threading.currentThread()\n",
    "    print(\"Current Thread name:\" , current_thread.name)\n",
    "\n",
    "thread2 = threading.Thread(target = test2)\n",
    "thread2.start()"
   ]
  },
  {
   "cell_type": "markdown",
   "metadata": {},
   "source": [
    "3. enumerate() Function:\n",
    "\n",
    "    Use: The enumerate() function returns a list of all Thread objects currently alive. Each thread is represented as an instance of the Thread class."
   ]
  },
  {
   "cell_type": "code",
   "execution_count": 3,
   "metadata": {},
   "outputs": [
    {
     "name": "stdout",
     "output_type": "stream",
     "text": [
      "Thread is running\n",
      "Thread is running\n",
      "Thread name: MainThread\n",
      "Thread name: IOPub\n",
      "Thread name: Heartbeat\n",
      "Thread name: Control\n",
      "Thread name: IPythonHistorySavingThread\n",
      "Thread name: Thread-4\n"
     ]
    }
   ],
   "source": [
    "def test3():\n",
    "    print(\"Thread is running\")\n",
    "\n",
    "thread3 = threading.Thread(target = test3)\n",
    "thread4 = threading.Thread(target = test3)\n",
    "thread3.start()\n",
    "thread4.start()\n",
    "\n",
    "for t in threading.enumerate():\n",
    "    print(\"Thread name:\" ,t.name)"
   ]
  },
  {
   "cell_type": "markdown",
   "metadata": {},
   "source": [
    "Q3. Explain the following functions:\n",
    "\n",
    "1. run()\n",
    "2. start()\n",
    "3. join()\n",
    "4. isAlive()"
   ]
  },
  {
   "cell_type": "markdown",
   "metadata": {},
   "source": [
    "1. run() Method:\n",
    "\n",
    "    Use: The run() method is the entry point for the thread's activity. It is the method that is invoked when you call the start() method on a Thread object. You can override this method in a custom class that extends the Thread class to define the behavior of the thread."
   ]
  },
  {
   "cell_type": "code",
   "execution_count": 4,
   "metadata": {},
   "outputs": [
    {
     "name": "stdout",
     "output_type": "stream",
     "text": [
      "Thread is running.\n"
     ]
    }
   ],
   "source": [
    "class test5(threading.Thread):\n",
    "    def run(self):\n",
    "        print(\"Thread is running.\")\n",
    "\n",
    "# Create and start a thread\n",
    "thread5 = test5()\n",
    "thread5.start()\n"
   ]
  },
  {
   "cell_type": "code",
   "execution_count": 5,
   "metadata": {},
   "outputs": [
    {
     "name": "stdout",
     "output_type": "stream",
     "text": [
      "Threading is running\n"
     ]
    }
   ],
   "source": [
    "def test5():\n",
    "    print(\"Threading is running\")\n",
    "    \n",
    "thread5 = threading.Thread(target = test5)\n",
    "thread5.run()"
   ]
  },
  {
   "cell_type": "markdown",
   "metadata": {},
   "source": [
    "2. start() Method:\n",
    "\n",
    "   Use: The start() method is used to begin the execution of the thread. It initializes the thread and calls the run() method. The actual code inside the run() method runs in a separate thread when start() is invoked."
   ]
  },
  {
   "cell_type": "code",
   "execution_count": 6,
   "metadata": {},
   "outputs": [
    {
     "name": "stdout",
     "output_type": "stream",
     "text": [
      "Threading is running\n"
     ]
    }
   ],
   "source": [
    "def test6():\n",
    "    print(\"Threading is running\")\n",
    "    \n",
    "thread6 = threading.Thread(target = test6)\n",
    "thread6.start()"
   ]
  },
  {
   "cell_type": "markdown",
   "metadata": {},
   "source": [
    "3. join() Method:\n",
    "\n",
    "   Use: The join() method is used to wait for the thread to complete its execution. It blocks the calling thread until the thread whose join() method is called completes its execution. This is useful when you want to ensure that a thread has finished before proceeding with the rest of the program."
   ]
  },
  {
   "cell_type": "code",
   "execution_count": 7,
   "metadata": {},
   "outputs": [
    {
     "name": "stdout",
     "output_type": "stream",
     "text": [
      "Threading is running\n",
      "Thread has finished.\n"
     ]
    }
   ],
   "source": [
    "def test7():\n",
    "    print(\"Threading is running\")\n",
    "    \n",
    "thread7 = threading.Thread(target = test7)\n",
    "thread7.start()\n",
    "thread7.join()\n",
    "print(\"Thread has finished.\")"
   ]
  },
  {
   "cell_type": "markdown",
   "metadata": {},
   "source": [
    "4. isAlive() Method:\n",
    "\n",
    "   Use: The isAlive() method is used to check whether a thread is currently executing (alive) or has finished its execution. It returns True if the thread is still running and False otherwise."
   ]
  },
  {
   "cell_type": "code",
   "execution_count": 8,
   "metadata": {},
   "outputs": [
    {
     "name": "stdout",
     "output_type": "stream",
     "text": [
      "Is the thread alive? True\n",
      "Thread is running\n",
      "Is the thread alive? False\n"
     ]
    }
   ],
   "source": [
    "import threading\n",
    "import time\n",
    "\n",
    "def test8():\n",
    "    time.sleep(2)\n",
    "    print(\"Thread is running\")\n",
    "\n",
    "thread8 = threading.Thread(target = test8)\n",
    "thread8.start()\n",
    "\n",
    "print(\"Is the thread alive?\" , thread8.is_alive())\n",
    "\n",
    "thread8.join()\n",
    "\n",
    "print(\"Is the thread alive?\" , thread8.is_alive())"
   ]
  },
  {
   "cell_type": "markdown",
   "metadata": {},
   "source": [
    "Q4. Write a python program to create two threads. Thread one must print the list of squares and thread\n",
    "two must print the list of cubes"
   ]
  },
  {
   "cell_type": "code",
   "execution_count": 9,
   "metadata": {},
   "outputs": [
    {
     "name": "stdout",
     "output_type": "stream",
     "text": [
      "Square:Cube: 1\n",
      "Cube: 8\n",
      "Cube: 27\n",
      "Cube: 64\n",
      "Cube: 125\n",
      "Cube: 216\n",
      "Cube: 343\n",
      "Cube: 512\n",
      "Cube: 729\n",
      " 1\n",
      "Square: 4\n",
      "Square: 9\n",
      "Square: 16\n",
      "Square: 25\n",
      "Square: 36\n",
      "Square: 49\n",
      "Square: 64\n",
      "Square: 81\n",
      "Both thread have finished\n"
     ]
    }
   ],
   "source": [
    "def test_sqr(num):\n",
    "    for i in num:\n",
    "        print(\"Square:\",i**2)\n",
    "\n",
    "def test_cube(num):\n",
    "    for i in num:\n",
    "        print(\"Cube:\",i**3)\n",
    "\n",
    "num_list = [1,2,3,4,5,6,7,8,9]\n",
    "\n",
    "thread_sqr = threading.Thread(target = test_sqr , args = (num_list,))\n",
    "thread_cube = threading.Thread(target = test_cube ,args = (num_list,))\n",
    "\n",
    "thread_sqr.start()\n",
    "thread_cube.start()\n",
    "\n",
    "thread_sqr.join()\n",
    "thread_cube.join()\n",
    "\n",
    "print(\"Both thread have finished\")\n"
   ]
  },
  {
   "cell_type": "markdown",
   "metadata": {},
   "source": [
    "Q5. State advantages and disadvantages of multithreading"
   ]
  },
  {
   "cell_type": "markdown",
   "metadata": {},
   "source": [
    "* Advantages of Multithreading:\n",
    "\n",
    "1. Improved Performance:\n",
    "Description: Multithreading can lead to improved performance, especially in situations where tasks can be parallelized. This is beneficial for CPU-bound operations that can be executed concurrently on multiple threads.\n",
    "\n",
    "2. Responsiveness:\n",
    "Description: In applications with a user interface, multithreading helps maintain responsiveness. Background tasks or time-consuming operations can be offloaded to separate threads, allowing the main thread to respond to user input promptly.\n",
    "\n",
    "3. Resource Sharing:\n",
    "Description: Threads within the same process share resources, such as memory space. This facilitates efficient communication and data sharing among threads, avoiding the need for complex inter-process communication mechanisms.\n",
    "\n",
    "4. Modular Design:\n",
    "Description: Multithreading allows developers to design applications with modular components. Different threads can handle different aspects of the program logic, enhancing code organization and maintainability.\n",
    "\n",
    "5. Parallelism for I/O Operations:\n",
    "Description: Multithreading is particularly beneficial for I/O-bound tasks, where threads can perform I/O operations concurrently without waiting. This results in better resource utilization and improved overall efficiency.\n",
    "\n",
    "* Disadvantages of Multithreading:\n",
    "\n",
    "1. Complexity and Synchronization:\n",
    "Description: Multithreading introduces complexity to program design and can lead to issues such as race conditions, deadlocks, and other synchronization problems. Debugging and maintaining multithreaded code can be challenging.\n",
    "\n",
    "2. Resource Contention:\n",
    "Description: Threads share resources, and improper management of resource access can lead to contention. This contention may result in inefficiencies and performance bottlenecks.\n",
    "\n",
    "3. Increased Memory Overhead:\n",
    "Description: Each thread has its own stack and local variables, contributing to increased memory overhead compared to a single-threaded application. This can be a concern in resource-constrained environments.\n",
    "\n",
    "4. Difficulty in Reproducibility:\n",
    "Description: Multithreaded programs may exhibit different behaviors on different runs due to the inherent non-determinism introduced by thread scheduling. Reproducing certain issues in multithreaded code can be challenging.\n",
    "\n",
    "5. Global Interpreter Lock (GIL):\n",
    "Description: In some programming languages like Python (e.g., CPython), a Global Interpreter Lock (GIL) restricts true parallel execution of threads. This limitation can impact the performance of CPU-bound tasks in multithreaded programs."
   ]
  },
  {
   "cell_type": "markdown",
   "metadata": {},
   "source": [
    "Q6. Explain deadlocks and race conditions."
   ]
  },
  {
   "cell_type": "markdown",
   "metadata": {},
   "source": [
    "* Conditions for Deadlock:\n",
    "\n",
    "  1. Mutual Exclusion: At least one resource must be held in a non-sharable mode, meaning only one process can use it at a time.\n",
    "  2. Hold and Wait: A process must be holding at least one resource and waiting to acquire additional resources.\n",
    "  3. No Preemption: Resources cannot be preempted or forcibly taken from a process. They must be released voluntarily by the process holding them.\n",
    "  4. Circular Wait: There must be a circular chain of two or more processes, each waiting for a resource held by the next process in the chain.\n",
    "\n",
    "* Race Conditions:\n",
    "\n",
    "  A race condition is a situation in which the behavior of a program depends on the relative timing of events, such as the order in which threads are scheduled to run. It arises when two or more threads access shared data or resources concurrently, and the final outcome depends on the order of execution."
   ]
  }
 ],
 "metadata": {
  "kernelspec": {
   "display_name": "Python 3",
   "language": "python",
   "name": "python3"
  },
  "language_info": {
   "codemirror_mode": {
    "name": "ipython",
    "version": 3
   },
   "file_extension": ".py",
   "mimetype": "text/x-python",
   "name": "python",
   "nbconvert_exporter": "python",
   "pygments_lexer": "ipython3",
   "version": "3.11.7"
  }
 },
 "nbformat": 4,
 "nbformat_minor": 2
}
