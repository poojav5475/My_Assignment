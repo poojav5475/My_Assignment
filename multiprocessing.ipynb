{
 "cells": [
  {
   "cell_type": "markdown",
   "metadata": {},
   "source": [
    "Q1. What is multiprocessing in python? Why is it useful?"
   ]
  },
  {
   "cell_type": "markdown",
   "metadata": {},
   "source": [
    "* Multiprocessing in Python refers to the capability of the Python language to create and run multiple processes concurrently. A process is an independent program with its own memory space, resources, and execution environment. Python provides the multiprocessing module to enable the creation, synchronization, and communication between multiple processes.\n",
    "\n",
    "* The main reasons for using multiprocessing in Python are:\n",
    "\n",
    "1. Parallelism: Multiprocessing allows you to parallelize your code, making it possible to execute multiple tasks simultaneously. This is particularly beneficial for computationally intensive tasks that can be divided into independent subtasks.\n",
    "\n",
    "2. Improved Performance: By distributing tasks across multiple processes, you can take advantage of multiple CPU cores, leading to improved performance and reduced execution time for certain types of tasks. This is especially useful on multi-core machines.\n",
    "\n",
    "3. Concurrency: Multiprocessing enables concurrent execution, allowing different parts of a program to run independently. This is useful for tasks that involve waiting for external resources, such as reading from files or waiting for network responses, as other processes can continue execution during these waiting periods.\n",
    "\n",
    "4. Isolation: Each process has its own memory space, which provides a level of isolation. This can be advantageous for certain applications, as issues in one process are less likely to affect others. However, it also means that communication between processes needs to be explicitly managed using mechanisms like inter-process communication (IPC)."
   ]
  },
  {
   "cell_type": "markdown",
   "metadata": {},
   "source": [
    "Q2. What are the differences between multiprocessing and multithreading?"
   ]
  },
  {
   "cell_type": "markdown",
   "metadata": {},
   "source": [
    "* Processes vs. Threads:\n",
    "\n",
    "Multiprocessing: In multiprocessing, multiple processes are created, each with its own memory space and Python interpreter. Processes run independently of each other and have their own memory, which provides better isolation. Communication between processes typically involves more overhead and requires explicit inter-process communication (IPC).\n",
    "\n",
    "Multithreading: In multithreading, multiple threads are created within a single process. Threads share the same memory space and resources, making communication between them easier. However, this shared memory also requires careful synchronization to avoid race conditions and other concurrency issues.\n",
    "\n",
    "* Parallelism:\n",
    "\n",
    "Multiprocessing: Processes run in parallel, taking advantage of multiple CPU cores. Each process can execute its own set of instructions simultaneously.\n",
    "\n",
    "Multithreading: Threads run concurrently within the same process, but due to Python's Global Interpreter Lock (GIL), only one thread can execute Python bytecode at a time. This limits the parallelism achieved through multithreading in Python for CPU-bound tasks.\n",
    "\n",
    "* Isolation:\n",
    "\n",
    "Multiprocessing: Processes have separate memory spaces, providing a high level of isolation. This makes it less prone to certain types of bugs related to shared state.\n",
    "\n",
    "Multithreading: Threads share the same memory space, which can lead to issues like race conditions and data corruption if not properly managed through synchronization mechanisms.\n",
    "\n",
    "* Communication and Synchronization:\n",
    "\n",
    "Multiprocessing: Communication between processes requires explicit mechanisms like queues, pipes, or shared memory. Processes have independent memory, so data sharing must be managed carefully.\n",
    "\n",
    "Multithreading: Threads share memory, which simplifies communication but requires careful synchronization to avoid data corruption and race conditions. Python's Global Interpreter Lock (GIL) can also impact the performance of multithreaded programs.\n",
    "\n",
    "* Use Cases:\n",
    "\n",
    "Multiprocessing: Well-suited for CPU-bound tasks, parallel processing, and tasks that benefit from isolation.\n",
    "\n",
    "Multithreading: Often used for I/O-bound tasks, where threads can perform other tasks while waiting for I/O operations to complete. It may not be as effective for CPU-bound tasks due to the GIL."
   ]
  },
  {
   "cell_type": "markdown",
   "metadata": {},
   "source": [
    "Q3. Write a python code to create a process using the multiprocessing module."
   ]
  },
  {
   "cell_type": "code",
   "execution_count": 1,
   "metadata": {},
   "outputs": [
    {
     "name": "stdout",
     "output_type": "stream",
     "text": [
      "The main Program started.\n",
      "Program Started\n",
      "program finsed\n",
      "The main program Finished.\n"
     ]
    }
   ],
   "source": [
    "import multiprocessing\n",
    "import time\n",
    "\n",
    "def test():\n",
    "    print(\"Program Started\")\n",
    "    time.sleep(2)\n",
    "    print(\"program finsed\")\n",
    "\n",
    "if __name__ == \"__main__\" :\n",
    "    print(\"The main Program started.\")\n",
    "    m = multiprocessing.Process(target = test())\n",
    "    m.start()\n",
    "    m.join()\n",
    "    print(\"The main program Finished.\")\n",
    "    "
   ]
  },
  {
   "cell_type": "markdown",
   "metadata": {},
   "source": [
    "Q4. What is a multiprocessing pool in python? Why is it used?"
   ]
  },
  {
   "cell_type": "markdown",
   "metadata": {},
   "source": [
    "*  multiprocessing pool refers to a pool of worker processes that are created to perform parallel processing tasks. The multiprocessing module in Python provides a Pool class that can be used to create a pool of worker processes. This pool allows you to distribute the workload across multiple processes, taking advantage of multicore processors and improving overall performance by parallelizing tasks.\n",
    "\n",
    "   The Pool class typically works by dividing a given task into smaller subtasks and assigning each subtask to a separate process within the pool. This parallelization can be beneficial for computationally intensive tasks, such as data processing, numerical computations, or any task that can be divided into independent units of work.\n",
    "\n",
    "* The primary advantages of using a multiprocessing pool in Python include:\n",
    "\n",
    "   Parallelization: Tasks are divided and performed concurrently by multiple processes, making better use of available CPU cores and reducing the overall execution time.\n",
    "\n",
    "   Improved Performance: Multiprocessing can lead to significant performance improvements for tasks that are CPU-bound, as it allows them to be executed in parallel.\n",
    "\n",
    "   Scalability: The multiprocessing pool makes it easier to scale your program across multiple processors or machines, enhancing performance for large-scale computations."
   ]
  },
  {
   "cell_type": "markdown",
   "metadata": {},
   "source": [
    "Q5. How can we create a pool of worker processes in python using the multiprocessing module?"
   ]
  },
  {
   "cell_type": "code",
   "execution_count": 3,
   "metadata": {},
   "outputs": [],
   "source": [
    "import multiprocessing\n",
    "from multiprocessing import Pool \n",
    "import time\n",
    "\n",
    "def cube(n):\n",
    "    return n*n*n\n",
    "\n",
    "if __name__ == '__main__':\n",
    "    with multiprocessing.Pool(processes=4) as pool:\n",
    "        l=[1,2,3,4,5,6,7,8,9,10]\n",
    "        result = pool.map(cube ,l)\n",
    "        print(result)\n",
    "    time.sleep(2)\n",
    "    "
   ]
  },
  {
   "cell_type": "markdown",
   "metadata": {},
   "source": [
    "Q6. Write a python program to create 4 processes, each process should print a different number using the\n",
    "multiprocessing module in python."
   ]
  },
  {
   "cell_type": "code",
   "execution_count": 2,
   "metadata": {},
   "outputs": [],
   "source": [
    "from multiprocessing import Process\n",
    "import os\n",
    "\n",
    "def test(num):\n",
    "    pro_id = os.getpid()\n",
    "    print(f\"Process ID: {pro_id} , Number: {num}\")\n",
    "\n",
    "if __name__ == \"__main__\":\n",
    "    processes =[]\n",
    "    for i in range(4):\n",
    "        num_print = i + 1\n",
    "        process = Process(target=test , args=(num_print,))\n",
    "\n",
    "        process.start()\n",
    "        processes.append(process)\n",
    "\n",
    "    for p in processes:\n",
    "        p.join()\n"
   ]
  },
  {
   "cell_type": "code",
   "execution_count": 3,
   "metadata": {},
   "outputs": [
    {
     "data": {
      "text/plain": [
       "[<Process name='Process-2' pid=16624 parent=21224 stopped exitcode=1>,\n",
       " <Process name='Process-3' pid=15048 parent=21224 stopped exitcode=1>,\n",
       " <Process name='Process-4' pid=18000 parent=21224 stopped exitcode=1>,\n",
       " <Process name='Process-5' pid=18384 parent=21224 stopped exitcode=1>]"
      ]
     },
     "execution_count": 3,
     "metadata": {},
     "output_type": "execute_result"
    }
   ],
   "source": [
    "processes"
   ]
  }
 ],
 "metadata": {
  "kernelspec": {
   "display_name": "Python 3",
   "language": "python",
   "name": "python3"
  },
  "language_info": {
   "codemirror_mode": {
    "name": "ipython",
    "version": 3
   },
   "file_extension": ".py",
   "mimetype": "text/x-python",
   "name": "python",
   "nbconvert_exporter": "python",
   "pygments_lexer": "ipython3",
   "version": "3.11.7"
  }
 },
 "nbformat": 4,
 "nbformat_minor": 2
}
