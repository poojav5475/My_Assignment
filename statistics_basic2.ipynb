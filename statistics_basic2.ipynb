{
 "cells": [
  {
   "cell_type": "markdown",
   "metadata": {},
   "source": [
    "Q1. What are the three measures of central tendency?"
   ]
  },
  {
   "cell_type": "markdown",
   "metadata": {},
   "source": [
    "The three measures of central tendency are:\n",
    "\n",
    "1. Mean: The mean is the average of a set of values. It is calculated by adding up all the values and then dividing by the number of values.\n",
    "\n",
    "2. Median: The median is the middle value in a data set when it is ordered from least to greatest. If there is an even number of values, the median is the average of the two middle values.\n",
    "\n",
    "3. Mode: The mode is the value that appears most frequently in a data set. A data set may have one mode, more than one mode, or no mode at all.\n",
    "\n",
    "\n",
    "\n",
    "\n",
    "\n"
   ]
  },
  {
   "cell_type": "markdown",
   "metadata": {},
   "source": [
    "Q2. What is the difference between the mean, median, and mode? How are they used to measure the\n",
    "central tendency of a dataset?"
   ]
  },
  {
   "cell_type": "markdown",
   "metadata": {},
   "source": [
    "The mean, median, and mode are three different measures of central tendency used to describe the center or average of a dataset. Here's a brief explanation of each and their differences:\n",
    "\n",
    "1. Mean:\n",
    "\n",
    "* Definition: The mean is the average of all the values in a dataset.\n",
    "* Calculation: Add up all the values and then divide by the number of values.\n",
    "* Sensitivity to Outliers: The mean can be sensitive to extreme values or outliers, as it takes into account every value in the dataset.\n",
    "\n",
    "2. Median:\n",
    "\n",
    "* Definition: The median is the middle value in a dataset when it is ordered from least to greatest.\n",
    "* Calculation: If the dataset has an odd number of values, the median is the middle value. If the dataset has an even number of values, the median is the average of the two middle values.\n",
    "* Robustness: The median is less sensitive to extreme values or outliers compared to the mean. It provides a better representation of the central tendency in the presence of outliers.\n",
    "\n",
    "3. Mode:\n",
    "\n",
    "* Definition: The mode is the value that appears most frequently in a dataset.\n",
    "* Calculation: A dataset may have no mode, one mode (unimodal), more than one mode (multimodal), or all values occurring with the same frequency.\n",
    "* Applicability: The mode is often used in categorical data and may not be meaningful for continuous data.\n",
    "\n",
    "How they are used to measure central tendency:\n",
    "\n",
    "* Choosing the Appropriate Measure:\n",
    "\n",
    "     The choice between mean, median, and mode depends on the nature of the data and the presence of outliers.\n",
    "     For symmetric distributions with no outliers, mean, median, and mode may be similar.\n",
    "     For skewed or non-normally distributed data, or data with outliers, the median or mode may provide a more accurate representation of central tendency.\n",
    "\n",
    "* Understanding the Distribution:\n",
    "\n",
    "     Examining all three measures can provide a more comprehensive understanding of the distribution of the data.\n",
    "     Mean and median are often reported together to give a sense of both the average and the central position of the values."
   ]
  },
  {
   "cell_type": "markdown",
   "metadata": {},
   "source": [
    "Q3. Measure the three measures of central tendency for the given height data:\n",
    "[178,177,176,177,178.2,178,175,179,180,175,178.9,176.2,177,172.5,178,176.5]"
   ]
  },
  {
   "cell_type": "markdown",
   "metadata": {},
   "source": [
    "1. Mean:\n",
    "\n",
    "      Mean = Sum of all values / Number of values \n",
    "\n",
    "           = 2747.3 / 16\n",
    "           = 171.706\n",
    "\n",
    "2. Median:\n",
    "\n",
    "      First, sort the data in ascending order:\n",
    "\n",
    "      [172.5,175,175,176,176.2,176.5,177,177,177,178,178,178,178.2,178.9,179,180]\n",
    "      Since there are 16 values, the median is the average of the 8th and 9th values.\n",
    "      \n",
    "      Median = (177 + 178) / 2\n",
    "      \n",
    "             = 177.7\n",
    "\n",
    "3. Mode:\n",
    "\n",
    "      The mode is the value(s) that appear most frequently. In this case, all values occur only once, so there is no mode.\n",
    "\n",
    "​\n",
    " "
   ]
  },
  {
   "cell_type": "markdown",
   "metadata": {},
   "source": [
    "Q4. Find the standard deviation for the given data:\n",
    "[178,177,176,177,178.2,178,175,179,180,175,178.9,176.2,177,172.5,178,176.5]"
   ]
  },
  {
   "cell_type": "code",
   "execution_count": 5,
   "metadata": {},
   "outputs": [],
   "source": [
    "import numpy as np"
   ]
  },
  {
   "cell_type": "code",
   "execution_count": 6,
   "metadata": {},
   "outputs": [],
   "source": [
    "data = [178,177,176,177,178.2,178,175,179,180,175,178.9,176.2,177,172.5,178,176.5]"
   ]
  },
  {
   "cell_type": "code",
   "execution_count": 7,
   "metadata": {},
   "outputs": [
    {
     "data": {
      "text/plain": [
       "1.7885814036548633"
      ]
     },
     "execution_count": 7,
     "metadata": {},
     "output_type": "execute_result"
    }
   ],
   "source": [
    "np.std(data)"
   ]
  },
  {
   "cell_type": "markdown",
   "metadata": {},
   "source": [
    "Q5. How are measures of dispersion such as range, variance, and standard deviation used to describe\n",
    "the spread of a dataset? Provide an example."
   ]
  },
  {
   "cell_type": "markdown",
   "metadata": {},
   "source": [
    "\n",
    "Measures of dispersion, including range, variance, and standard deviation, are used to describe how spread out or dispersed the values in a dataset are. They provide insights into the variability and distribution of the data points. Here's an explanation of each measure and an example:\n",
    "\n",
    "1. Range:\n",
    "\n",
    "* Definition: The range is the difference between the maximum and minimum values in a dataset.\n",
    "* Formula: \n",
    "\n",
    "       Range = Maximum value - Minimum value\n",
    "\n",
    "* Example: If you have a dataset of exam scores: [70, 75, 80, 85, 90], the range would be \n",
    "  90−70=20. \n",
    "  The range gives a simple indication of the spread but is sensitive to outliers.\n",
    "\n",
    "2. Variance:\n",
    "\n",
    "* Definition: Variance measures how much each data point in the set differs from the mean.\n",
    "* Formula: \n",
    "\n",
    "       Variance = ∑(xi - mean)^2 / n\n",
    "\n",
    "* Example: Consider the dataset [5, 7, 8, 10, 12]. Calculate the mean and then the variance. Higher variance indicates greater dispersion.\n",
    "\n",
    "3. Standard Deviation:\n",
    "\n",
    "* Definition: Standard deviation is the square root of the variance. It represents the average amount of deviation from the mean.\n",
    "* Formula:\n",
    "\n",
    "       Standard Deviation = sqrt (Variance)\n",
    "\n",
    "* Example: Using the same dataset [5, 7, 8, 10, 12], calculate the standard deviation. It provides a more interpretable measure of dispersion compared to variance."
   ]
  },
  {
   "cell_type": "markdown",
   "metadata": {},
   "source": [
    "Q6. What is a Venn diagram?"
   ]
  },
  {
   "cell_type": "markdown",
   "metadata": {},
   "source": [
    "\n",
    "A Venn diagram is a visual representation that illustrates the relationships and similarities between different sets or groups of items. It was introduced by the English mathematician and logician John Venn in the late 19th century. Venn diagrams consist of overlapping circles, each representing a set, and the overlap represents the intersection of those sets.\n",
    "\n",
    "Key features of a Venn diagram:\n",
    "\n",
    "* Circles or Ellipses: Each circle or ellipse in a Venn diagram represents a set. The size of the circle is not necessarily proportional to the size of the set it represents.\n",
    "\n",
    "* Overlap: The overlap between circles represents the intersection of the sets, indicating elements that are common to both sets.\n",
    "\n",
    "* Regions: The regions within each circle but outside the overlap represent elements that are unique to that specific set.\n",
    "\n",
    "* Labels: Sets are often labeled with letters or descriptive names to indicate what they represent."
   ]
  },
  {
   "cell_type": "markdown",
   "metadata": {},
   "source": [
    "Q7. For the two given sets A = (2,3,4,5,6,7) & B = (0,2,6,8,10). Find:\n",
    "\n",
    "(i) A ^ B\n",
    "\n",
    "(ii) A ⋃ B"
   ]
  },
  {
   "cell_type": "markdown",
   "metadata": {},
   "source": [
    "A ^ B = (2,6)\n",
    "\n",
    "A U B = (0,2,3,4,5,6,7,8,10)"
   ]
  },
  {
   "cell_type": "markdown",
   "metadata": {},
   "source": [
    "Q8. What do you understand about skewness in data?"
   ]
  },
  {
   "cell_type": "markdown",
   "metadata": {},
   "source": [
    "\n",
    "Skewness is a measure of the asymmetry or lack of symmetry in a probability distribution or dataset. In other words, it quantifies the extent and direction of skew (departure from horizontal symmetry) in the data. A distribution or dataset can be positively skewed, negatively skewed, or approximately symmetrical (no skew).\n",
    "\n",
    "* Positive Skewness:\n",
    "\n",
    "   In a positively skewed distribution, the tail on the right side (the larger values) is longer or fatter than the left side. The majority of the data points are concentrated on the left side.\n",
    "   The mean is typically greater than the median in a positively skewed distribution.\n",
    "\n",
    "* Negative Skewness:\n",
    "\n",
    "   In a negatively skewed distribution, the tail on the left side (the smaller values) is longer or fatter than the right side. The majority of the data points are concentrated on the right side.\n",
    "   The mean is typically less than the median in a negatively skewed distribution.\n",
    "\n",
    "* Zero Skewness:\n",
    "\n",
    "   A distribution is considered symmetrical (zero skewness) if the left and right sides are mirror images of each other. The mean and median are equal in a symmetrical distribution."
   ]
  },
  {
   "cell_type": "markdown",
   "metadata": {},
   "source": [
    "Q9. If a data is right skewed then what will be the position of median with respect to mean?"
   ]
  },
  {
   "cell_type": "markdown",
   "metadata": {},
   "source": [
    "In a right-skewed distribution (positively skewed), the tail on the right side is longer or fatter than the left side. This means that there are some larger values that are pulling the mean to the right. In a right-skewed distribution:\n",
    "\n",
    "1. Mean vs. Median:\n",
    "\n",
    "* The mean will be greater than the median.\n",
    "* The mean is sensitive to extreme values or outliers, and in a right-skewed distribution, the larger values in the right tail will have a greater impact, pulling the mean in that direction.\n",
    "\n",
    "2. Position of Mean and Median:\n",
    "\n",
    "* The mean is typically located to the right of the median in a right-skewed distribution.\n",
    "* Visualizing this concept, if you imagine a histogram or density plot of a right-skewed distribution, with the x-axis representing the values and the y-axis representing the frequency or density, you would see a long tail extending to the right. The mean is influenced by these larger values in the tail, pulling it in that direction, while the median is less affected and tends to be closer to the center of the distribution."
   ]
  },
  {
   "cell_type": "markdown",
   "metadata": {},
   "source": [
    "Q10. Explain the difference between covariance and correlation. How are these measures used in\n",
    "statistical analysis?"
   ]
  },
  {
   "cell_type": "markdown",
   "metadata": {},
   "source": [
    "Covariance:\n",
    "\n",
    "* Definition: Covariance is a measure of how two variables change together. It indicates the direction of the linear relationship between two variables.\n",
    "* Formula: For two variables X and Y, the covariance (cov) is calculated as \n",
    "           \n",
    "           cov(X,Y) = ∑(Xi - mean(X))(Yi - mean(Y))\n",
    "\n",
    "* Interpretation:\n",
    "   * Positive covariance indicates a positive relationship: as one variable increases, the other tends to increase.\n",
    "   * Negative covariance indicates a negative relationship: as one variable increases, the other tends to decrease.\n",
    "   * Covariance magnitude is not standardized, making interpretation challenging.\n",
    "\n",
    "Correlation:\n",
    "\n",
    "* Definition: Correlation is a standardized measure of the strength and direction of the linear relationship between two variables. It provides a more interpretable measure compared to covariance.\n",
    "* Formula: The correlation coefficient (r) is calculated as follows:\n",
    "      \n",
    "          r = cov(X,Y) / sigma(X) Sigma(Y)\n",
    "\n",
    "* Range: Correlation coefficients range from -1 to 1.\n",
    "   * r=1 indicates a perfect positive linear relationship.\n",
    "   * r=−1 indicates a perfect negative linear relationship.\n",
    "   * r=0 indicates no linear relationship.\n",
    "\n",
    "* Interpretation:\n",
    "    The sign indicates the direction (positive or negative), and the magnitude indicates the strength of the relationship."
   ]
  },
  {
   "cell_type": "markdown",
   "metadata": {},
   "source": [
    "Q11. What is the formula for calculating the sample mean? Provide an example calculation for a\n",
    "dataset."
   ]
  },
  {
   "cell_type": "markdown",
   "metadata": {},
   "source": [
    "\n",
    "The sample mean, often denoted as x bar, is the average of a set of values in a sample. The formula for calculating the sample mean is:\n",
    "\n",
    "Consider the following dataset: [12, 15, 18, 20, 22]\n",
    "1. Sum all the values:\n",
    "    Sum = 12 + 15 + 18 + 20 + 22 = 87\n",
    "\n",
    "2. Number of values (n):\n",
    "    n = 5\n",
    "\n",
    "3. Calculate the sample mean:\n",
    "     x = 87 / 5 = 17.4"
   ]
  },
  {
   "cell_type": "markdown",
   "metadata": {},
   "source": [
    "Q12. For a normal distribution data what is the relationship between its measure of central tendency?"
   ]
  },
  {
   "cell_type": "markdown",
   "metadata": {},
   "source": [
    "\n",
    "For a normal distribution, which is a symmetric and bell-shaped distribution, the measures of central tendency—mean, median, and mode—are all equal. In a perfectly normal distribution:\n",
    "\n",
    "1. Mean (μ):\n",
    "\n",
    "* The mean of a normal distribution is located at the center of the distribution.\n",
    "* The mean is also the balance point of the distribution, and it is equal to the median.\n",
    "\n",
    "2. Median:\n",
    "\n",
    "* The median of a normal distribution is the same as the mean.\n",
    "* In a symmetrical distribution, the median is located at the center, exactly halfway between the minimum and maximum values.\n",
    "\n",
    "3. Mode:\n",
    "\n",
    "* The mode of a normal distribution is also equal to the mean and the median.\n",
    "* For a perfectly symmetrical bell curve, every point on one side of the peak has a corresponding point on the other side, resulting in a single mode at the center."
   ]
  },
  {
   "cell_type": "markdown",
   "metadata": {},
   "source": [
    "\n",
    "Covariance and correlation are both measures of the relationship between two variables, but they have some key differences:\n",
    "\n",
    "1. Definition:\n",
    "\n",
    "* Covariance: Covariance is a measure of how two variables change together. It indicates the direction of the linear relationship between two variables.\n",
    "* Correlation: Correlation is a standardized measure of the strength and direction of the linear relationship between two variables. It provides a more interpretable measure compared to covariance.\n",
    "\n",
    "2. Scale:\n",
    "\n",
    "* Covariance: Covariance is not standardized, and its value is influenced by the scale of the variables. Therefore, it is not easily interpretable and may be challenging to compare across different pairs of variables.\n",
    "* Correlation: Correlation is standardized, with values always ranging between -1 and 1. This standardization makes it easier to interpret and compare relationships.\n",
    "\n",
    "3. Units:\n",
    "\n",
    "* Covariance: The unit of covariance is the product of the units of the two variables being measured.\n",
    "* Correlation: Correlation is a unitless measure, making it less dependent on the scale of the variables.\n",
    "\n",
    "4. Interpretation:\n",
    "\n",
    "* Covariance: A positive covariance indicates a positive relationship (as one variable increases, the other tends to increase), while a negative covariance indicates a negative relationship.\n",
    "* Correlation: The correlation coefficient ranges from -1 to 1. A correlation of 1 indicates a perfect positive linear relationship, -1 indicates a perfect negative linear relationship, and 0 indicates no linear relationship.\n",
    "\n",
    "5. Normalization:\n",
    "\n",
    "* Covariance: Covariance is not normalized, and its magnitude depends on the scale of the variables.\n",
    "* Correlation: Correlation standardizes the measure, allowing for easier comparison and interpretation across different datasets."
   ]
  },
  {
   "cell_type": "markdown",
   "metadata": {},
   "source": [
    "Q14. How do outliers affect measures of central tendency and dispersion? Provide an example."
   ]
  },
  {
   "cell_type": "markdown",
   "metadata": {},
   "source": [
    "Measures of Central Tendency:\n",
    "\n",
    "1. Mean:\n",
    "\n",
    "* Effect: Outliers can heavily influence the mean because the mean is sensitive to extreme values.\n",
    "* Example: Consider the dataset [10, 12, 15, 18, 200]. The mean is significantly influenced by the outlier 200, resulting in a mean that does not represent the central tendency well.\n",
    "\n",
    "2. Median:\n",
    "\n",
    "* Effect: The median is less affected by outliers, making it a more robust measure of central tendency.\n",
    "* Example: In the dataset [10, 12, 15, 18, 200], the median remains close to the center (15), unaffected by the extreme value.\n",
    "\n",
    "3. Mode:\n",
    "\n",
    "* Effect: Outliers do not directly impact the mode, as it represents the most frequently occurring value(s).\n",
    "* Example: In the dataset [10, 12, 15, 18, 200], there is no mode, but if there were, it would not be influenced by the outlier.\n",
    "\n",
    "Measures of Dispersion:\n",
    "\n",
    "1. Range:\n",
    "\n",
    "* Effect: Outliers can significantly increase the range, as it is the difference between the maximum and minimum values.\n",
    "* Example: In the dataset [10, 12, 15, 18, 200], the range is 200 - 10 = 190, primarily due to the outlier.\n",
    "\n",
    "2. Variance and Standard Deviation:\n",
    "\n",
    "* Effect: Outliers can increase the variance and standard deviation because these measures are sensitive to the squared differences from the mean.\n",
    "* Example: In the dataset [10, 12, 15, 18, 200], the variance and standard deviation will be higher due to the influence of the outlier."
   ]
  },
  {
   "cell_type": "markdown",
   "metadata": {},
   "source": []
  }
 ],
 "metadata": {
  "kernelspec": {
   "display_name": "Python 3",
   "language": "python",
   "name": "python3"
  },
  "language_info": {
   "codemirror_mode": {
    "name": "ipython",
    "version": 3
   },
   "file_extension": ".py",
   "mimetype": "text/x-python",
   "name": "python",
   "nbconvert_exporter": "python",
   "pygments_lexer": "ipython3",
   "version": "3.11.8"
  }
 },
 "nbformat": 4,
 "nbformat_minor": 2
}
