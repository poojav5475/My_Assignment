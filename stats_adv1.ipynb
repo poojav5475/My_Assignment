{
 "cells": [
  {
   "cell_type": "markdown",
   "metadata": {},
   "source": [
    "Q1. What is the Probability density function?"
   ]
  },
  {
   "cell_type": "markdown",
   "metadata": {},
   "source": [
    "\n",
    "The Probability Density Function (PDF) is a concept in probability theory and statistics that describes the likelihood of a continuous random variable taking on a specific value. For a continuous random variable, unlike discrete variables, the probability of any single exact value is often zero. Instead, the PDF gives the probability density at each point, and the probability of the variable falling within a certain range is given by the integral of the PDF over that range."
   ]
  },
  {
   "cell_type": "markdown",
   "metadata": {},
   "source": [
    "Q2. What are the types of Probability distribution?"
   ]
  },
  {
   "cell_type": "markdown",
   "metadata": {},
   "source": [
    "There are several types of probability distributions, and they can be broadly classified into two main categories: discrete probability distributions and continuous probability distributions. Here's an overview of each:\n",
    "\n",
    "1. Discrete Probability Distributions:\n",
    "\n",
    "* Bernoulli Distribution: Represents a binary outcome, such as success/failure or yes/no, with a single trial.\n",
    "* Binomial Distribution: Describes the number of successes in a fixed number of independent Bernoulli trials.\n",
    "* Poisson Distribution: Models the number of events that occur in a fixed interval of time or space.\n",
    "\n",
    "2. Continuous Probability Distributions:\n",
    "\n",
    "* Normal Distribution (Gaussian Distribution): Symmetric and bell-shaped, characterized by mean and standard deviation. Many natural phenomena follow this distribution.\n",
    "* Uniform Distribution: All outcomes are equally likely within a given range.\n",
    "* Exponential Distribution: Describes the time until an event (such as a failure) occurs in a continuous process with a constant hazard rate.\n",
    "* Log-Normal Distribution: Results from the exponential of a normally distributed random variable. It is skewed to the right.\n",
    "* Gamma Distribution: Generalizes the exponential distribution and includes the Erlang distribution as a special case.\n",
    "* Beta Distribution: Models the distribution of probabilities for random variables that range between 0 and 1.\n",
    "\n",
    "3. Joint Probability Distributions:\n",
    "\n",
    "* Multinomial Distribution: Generalization of the binomial distribution to more than two categories.\n",
    "* Multivariate Normal Distribution: Extension of the normal distribution to multiple dimensions.\n"
   ]
  },
  {
   "cell_type": "markdown",
   "metadata": {},
   "source": [
    "Q3. Write a Python function to calculate the probability density function of a normal distribution with\n",
    "given mean and standard deviation at a given point."
   ]
  },
  {
   "cell_type": "code",
   "execution_count": 1,
   "metadata": {},
   "outputs": [
    {
     "name": "stdout",
     "output_type": "stream",
     "text": [
      "The probability density function at x = 1.5 is 0.12951759566589174\n"
     ]
    }
   ],
   "source": [
    "import math\n",
    "\n",
    "def normal_pdf(x, mean, std_dev):\n",
    "    \n",
    "    coefficient = 1 / (std_dev * math.sqrt(2 * math.pi))\n",
    "    exponent = -((x - mean) ** 2) / (2 * std_dev ** 2)\n",
    "    pdf_value = coefficient * math.exp(exponent)\n",
    "    return pdf_value\n",
    "\n",
    "mean_value = 0  \n",
    "std_dev_value = 1\n",
    "point = 1.5  \n",
    "\n",
    "result = normal_pdf(point, mean_value, std_dev_value)\n",
    "print(f\"The probability density function at x = {point} is {result}\")\n"
   ]
  },
  {
   "cell_type": "markdown",
   "metadata": {},
   "source": [
    "Q4. What are the properties of Binomial distribution? Give two examples of events where binomial\n",
    "distribution can be applied."
   ]
  },
  {
   "cell_type": "markdown",
   "metadata": {},
   "source": [
    "\n",
    "The Binomial distribution is a discrete probability distribution that describes the number of successes in a fixed number of independent Bernoulli trials, where each trial has only two possible outcomes: success or failure. The key properties of the Binomial distribution include:\n",
    "\n",
    "1. Number of Trials (n): The distribution is characterized by a fixed number of trials (n), where each trial is independent of the others.\n",
    "\n",
    "2. Probability of Success (p): Each trial has a probability of success (p), and the probability of failure is 1−p.\n",
    "\n",
    "3. Discreteness: The random variable representing the number of successes is discrete and takes on integer values.\n",
    "\n",
    "4. Independence: The trials are assumed to be independent of each other.\n",
    "\n",
    "Two examples of events where the Binomial distribution can be applied are:\n",
    "\n",
    "* Coin Flipping:\n",
    "\n",
    "    * Example: Tossing a fair coin multiple times and counting the number of heads.\n",
    "    * Parameters: n trials (number of coin tosses), p=0.5 (probability of getting heads), and 1−p=0.5 (probability of getting tails).\n",
    "\n",
    "* Quality Control:\n",
    "\n",
    "   * Example: Inspecting a batch of products and counting the number of defective items.\n",
    "   * Parameters: n items in the batch, p is the probability of an item being defective, and 1−p is the probability of an item being non-defective."
   ]
  },
  {
   "cell_type": "markdown",
   "metadata": {},
   "source": [
    "Q5. Generate a random sample of size 1000 from a binomial distribution with probability of success 0.4\n",
    "and plot a histogram of the results using matplotlib."
   ]
  },
  {
   "cell_type": "code",
   "execution_count": 2,
   "metadata": {},
   "outputs": [
    {
     "data": {
      "image/png": "[encoded data removed]",
      "text/plain": [
       "<Figure size 640x480 with 1 Axes>"
      ]
     },
     "metadata": {},
     "output_type": "display_data"
    }
   ],
   "source": [
    "import numpy as np\n",
    "import matplotlib.pyplot as plt\n",
    "\n",
    "# Set the parameters for the Binomial distribution\n",
    "n = 10  # Number of trials\n",
    "p = 0.4  # Probability of success\n",
    "\n",
    "# Generate a random sample of size 1000 from the Binomial distribution\n",
    "random_sample = np.random.binomial(n, p, size=1000)\n",
    "\n",
    "# Plot the histogram\n",
    "plt.hist(random_sample, bins=np.arange(0, n+2) - 0.5, edgecolor='black', alpha=0.7)\n",
    "plt.title('Histogram of Binomial Distribution')\n",
    "plt.xlabel('Number of Successes')\n",
    "plt.ylabel('Frequency')\n",
    "plt.grid(axis='y', linestyle='--', alpha=0.7)\n",
    "plt.show()"
   ]
  },
  {
   "cell_type": "markdown",
   "metadata": {},
   "source": [
    "Q6. Write a Python function to calculate the cumulative distribution function of a Poisson distribution\n",
    "with given mean at a given point."
   ]
  },
  {
   "cell_type": "code",
   "execution_count": 3,
   "metadata": {},
   "outputs": [
    {
     "name": "stdout",
     "output_type": "stream",
     "text": [
      "The cumulative distribution function at k = 2 is 0.42319008112684353\n"
     ]
    }
   ],
   "source": [
    "import math\n",
    "\n",
    "def poisson_cdf(k, mean):\n",
    "    \"\"\"\n",
    "    Calculate the cumulative distribution function (CDF) of a Poisson distribution at a given point.\n",
    "\n",
    "    Parameters:\n",
    "    - k: The point at which to calculate the CDF.\n",
    "    - mean: The mean of the Poisson distribution.\n",
    "\n",
    "    Returns:\n",
    "    The CDF value at the given point.\n",
    "    \"\"\"\n",
    "    cdf_value = 0.0\n",
    "    for i in range(k + 1):\n",
    "        cdf_value += math.exp(-mean) * (mean**i) / math.factorial(i)\n",
    "    return cdf_value\n",
    "\n",
    "# Example usage:\n",
    "mean_value = 3  # Replace with your desired mean\n",
    "point = 2  # Replace with the point at which you want to calculate the CDF\n",
    "\n",
    "result = poisson_cdf(point, mean_value)\n",
    "print(f\"The cumulative distribution function at k = {point} is {result}\")\n"
   ]
  },
  {
   "cell_type": "markdown",
   "metadata": {},
   "source": [
    "Q7. How Binomial distribution different from Poisson distribution?"
   ]
  },
  {
   "cell_type": "markdown",
   "metadata": {},
   "source": [
    "\n",
    "The Binomial distribution and the Poisson distribution are both probability distributions that describe the number of successes in a series of independent trials. However, there are key differences between the two distributions:\n",
    "\n",
    "1. Number of Trials:\n",
    "\n",
    "* Binomial Distribution: The Binomial distribution is associated with a fixed number of trials (n), where each trial has only two possible outcomes (success or failure).\n",
    "* Poisson Distribution: The Poisson distribution does not have a fixed number of trials. It describes the number of events that occur in a fixed interval of time or space.\n",
    "\n",
    "2. Nature of Outcomes:\n",
    "\n",
    "* Binomial Distribution: Each trial in a Binomial distribution has two possible outcomes (success or failure).\n",
    "* Poisson Distribution: The Poisson distribution is used to model the number of events occurring in a fixed interval, and each event is considered a success.\n",
    "\n",
    "3. Probability of Success:\n",
    "\n",
    "* Binomial Distribution: The probability of success (p) remains constant across all trials.\n",
    "* Poisson Distribution: The Poisson distribution does not have a separate probability of success; it is characterized by the average rate of events (λ).\n",
    "\n",
    "4. Conditions for Applicability:\n",
    "\n",
    "* Binomial Distribution: Applicable when there is a fixed number of independent trials, each with the same probability of success, and the trials are mutually exclusive.\n",
    "* Poisson Distribution: Applicable when the events are rare, the average rate of occurrence is constant, and events are independent."
   ]
  },
  {
   "cell_type": "markdown",
   "metadata": {},
   "source": [
    "Q8. Generate a random sample of size 1000 from a Poisson distribution with mean 5 and calculate the\n",
    "sample mean and variance."
   ]
  },
  {
   "cell_type": "code",
   "execution_count": 4,
   "metadata": {},
   "outputs": [
    {
     "name": "stdout",
     "output_type": "stream",
     "text": [
      "Sample Mean: 5.047\n",
      "Sample Variance: 5.0007909999999995\n"
     ]
    }
   ],
   "source": [
    "import numpy as np\n",
    "\n",
    "# Set the parameter for the Poisson distribution\n",
    "mean_value = 5  # Mean of the Poisson distribution\n",
    "\n",
    "# Generate a random sample of size 1000 from the Poisson distribution\n",
    "random_sample = np.random.poisson(mean_value, size=1000)\n",
    "\n",
    "# Calculate the sample mean and variance\n",
    "sample_mean = np.mean(random_sample)\n",
    "sample_variance = np.var(random_sample)\n",
    "\n",
    "# Print the results\n",
    "print(f\"Sample Mean: {sample_mean}\")\n",
    "print(f\"Sample Variance: {sample_variance}\")\n"
   ]
  },
  {
   "cell_type": "markdown",
   "metadata": {},
   "source": [
    "Q9. How mean and variance are related in Binomial distribution and Poisson distribution?"
   ]
  },
  {
   "cell_type": "markdown",
   "metadata": {},
   "source": [
    "1. Binomial Distribution:\n",
    "\n",
    "* Mean: For a Binomial distribution with parameters n (number of trials) and p (probability of success in a single trial), the mean is given by μ=np.\n",
    "* Variance: The variance is given by σ^2 = np(1−p).\n",
    "\n",
    "   The relationship between mean and variance in a Binomial distribution is σ^2 = np(1−p). \n",
    "\n",
    "\n",
    "2. Poisson Distribution:\n",
    "\n",
    "* Mean: For a Poisson distribution with parameter λ (average rate of events per interval), the mean is μ=λ.\n",
    "* Variance: The variance is also σ^2 = λ.\n",
    "\n",
    "   In the Poisson distribution, the mean (μ) and variance (σ^2) are both equal to the parameter λ"
   ]
  },
  {
   "cell_type": "markdown",
   "metadata": {},
   "source": [
    "Q10. In normal distribution with respect to mean position, where does the least frequent data appear?"
   ]
  },
  {
   "cell_type": "markdown",
   "metadata": {},
   "source": [
    "\n",
    "In a normal distribution, also known as a Gaussian distribution or bell curve, the least frequent data appears in the tails of the distribution, farthest from the mean. The normal distribution is symmetric around its mean, and its shape is determined by the mean and the standard deviation.\n",
    "\n",
    "The normal distribution is characterized by the 68-95-99.7 rule (empirical rule or three-sigma rule), which states that:\n",
    "\n",
    "* About 68% of the data falls within one standard deviation (σ) of the mean (μ).\n",
    "* About 95% of the data falls within two standard deviations of the mean.\n",
    "* About 99.7% of the data falls within three standard deviations of the mean.\n",
    "\n",
    "So, the data in the tails (beyond three standard deviations from the mean) is the least frequent, making up only a very small percentage of the total observations in a normal distribution. Outliers and extreme values are more likely to be found in these tail regions."
   ]
  },
  {
   "cell_type": "markdown",
   "metadata": {},
   "source": []
  }
 ],
 "metadata": {
  "kernelspec": {
   "display_name": "Python 3",
   "language": "python",
   "name": "python3"
  },
  "language_info": {
   "codemirror_mode": {
    "name": "ipython",
    "version": 3
   },
   "file_extension": ".py",
   "mimetype": "text/x-python",
   "name": "python",
   "nbconvert_exporter": "python",
   "pygments_lexer": "ipython3",
   "version": "3.11.8"
  }
 },
 "nbformat": 4,
 "nbformat_minor": 2
}
