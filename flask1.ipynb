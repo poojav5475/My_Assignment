{
 "cells": [
  {
   "cell_type": "markdown",
   "metadata": {},
   "source": [
    "Q1. What is Flask Framework? What are the advantages of Flask Framework?"
   ]
  },
  {
   "cell_type": "markdown",
   "metadata": {},
   "source": [
    "Flask is a lightweight and extensible web framework for Python. It is designed to be simple and easy to use, making it an excellent choice for developing web applications and APIs. Flask is known for its flexibility, allowing developers to choose the components they need and structure their applications according to their preferences.\n",
    "\n",
    "* Here are some advantages of Flask:\n",
    "\n",
    "1. Lightweight and Simple: Flask is a micro-framework, which means it comes with the essential features to get a web application up and running without imposing too many restrictions. It allows developers to add only the components they need, resulting in a more lightweight and streamlined application.\n",
    "\n",
    "2. Easy to Learn and Use: Flask is designed to be beginner-friendly. Its simplicity makes it easy for developers, especially those new to web development, to quickly understand and start building applications.\n",
    "\n",
    "3. Extensible: While Flask is minimalistic by default, it is highly extensible. Developers can easily add extensions and third-party libraries to enhance functionality as needed. This flexibility allows you to use only the components required for your specific project.\n",
    "\n",
    "4. Built-in Development Server: Flask comes with a built-in development server, which is convenient for testing and debugging during the development process. This eliminates the need for a separate server during the early stages of development.\n",
    "\n",
    "5. Jinja2 Templating: Flask uses the Jinja2 template engine, which provides powerful and dynamic templates for rendering HTML pages. This allows developers to create dynamic web pages easily.\n",
    "\n",
    "6. Werkzeug: Flask is built on top of the Werkzeug WSGI toolkit, which provides a solid foundation for building web applications. Werkzeug includes utilities for handling HTTP requests, routing, and other web-related tasks.\n",
    "\n",
    "7. Active Community and Documentation: Flask has a vibrant and active community, and it is well-documented. This means that developers can find plenty of resources, tutorials, and support when working with Flask.\n",
    "\n",
    "8. RESTful Support: Flask is well-suited for building RESTful APIs. It provides the necessary tools to create APIs efficiently, making it a popular choice for building web services.\n",
    "\n"
   ]
  },
  {
   "cell_type": "markdown",
   "metadata": {},
   "source": [
    "Q2. Create a simple Flask application to display ‘Hello World!!’. Attach the screenshot of the output in\n",
    "Jupyter Notebook."
   ]
  },
  {
   "cell_type": "markdown",
   "metadata": {},
   "source": [
    "Q3. What is App routing in Flask? Why do we use app routes?"
   ]
  },
  {
   "cell_type": "markdown",
   "metadata": {},
   "source": [
    "In Flask, app routing refers to the process of defining URL patterns (routes) that map to specific functions or views in your application. These routes determine how the application responds to different HTTP requests (e.g., GET, POST) on specific URLs. The routing mechanism is a fundamental aspect of web development that allows you to create a structure for handling different parts of your web application.\n",
    "\n",
    "* Why do we use app routes in Flask?\n",
    "\n",
    "1. Modularization: App routes help organize your code by allowing you to separate different functionalities into distinct views. Each route can be associated with a specific feature or page of your application.\n",
    "\n",
    "2. Readability: Routes make your code more readable and maintainable. Instead of having all your code in a single function or script, you can break it down into smaller, focused functions associated with specific routes.\n",
    "\n",
    "3. URL Structure: Routes define the structure of your application's URLs. This makes it easier to understand and navigate the different parts of your web application.\n",
    "\n",
    "4. HTTP Methods: Routes in Flask can be associated with specific HTTP methods (e.g., GET, POST), allowing you to handle different types of requests differently. For example, you might use a GET request to retrieve information and a POST request to submit data.\n",
    "\n",
    "5. Dynamic Routing: Flask supports dynamic routing, allowing you to define routes with variable components. This enables you to create flexible routes that can handle varying inputs.\n"
   ]
  },
  {
   "cell_type": "markdown",
   "metadata": {},
   "source": [
    "Q4. Create a “/welcome” route to display the welcome message “Welcome to ABC Corporation” and a “/”\n",
    "route to show the following details:\n",
    "Company Name: ABC Corporation\n",
    "Location: India\n",
    "Contact Detail: 999-999-9999\n",
    "Attach the screenshot of the output in Jupyter Notebook."
   ]
  },
  {
   "cell_type": "markdown",
   "metadata": {},
   "source": [
    "Q5. What function is used in Flask for URL Building? Write a Python code to demonstrate the working of the\n",
    "url_for() function."
   ]
  },
  {
   "cell_type": "markdown",
   "metadata": {},
   "source": [
    "In Flask, the url_for() function is used for URL building. It generates a URL for the specified endpoint (view function) and can also include arguments and query parameters."
   ]
  },
  {
   "cell_type": "code",
   "execution_count": null,
   "metadata": {},
   "outputs": [],
   "source": [
    "from flask import Flask\n",
    "\n",
    "app = Flask(__name__)\n",
    "\n",
    "@app.ro"
   ]
  }
 ],
 "metadata": {
  "kernelspec": {
   "display_name": "Python 3",
   "language": "python",
   "name": "python3"
  },
  "language_info": {
   "codemirror_mode": {
    "name": "ipython",
    "version": 3
   },
   "file_extension": ".py",
   "mimetype": "text/x-python",
   "name": "python",
   "nbconvert_exporter": "python",
   "pygments_lexer": "ipython3",
   "version": "3.11.7"
  }
 },
 "nbformat": 4,
 "nbformat_minor": 2
}
