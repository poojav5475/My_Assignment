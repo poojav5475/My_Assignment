{
 "cells": [
  {
   "cell_type": "markdown",
   "metadata": {},
   "source": [
    "Q1. Create a Pandas Series that contains the following data: 4, 8, 15, 16, 23, and 42. Then, print the series."
   ]
  },
  {
   "cell_type": "code",
   "execution_count": 1,
   "metadata": {},
   "outputs": [
    {
     "name": "stdout",
     "output_type": "stream",
     "text": [
      "0     4\n",
      "1     8\n",
      "2    15\n",
      "3    16\n",
      "4    23\n",
      "5    42\n",
      "dtype: int64\n"
     ]
    },
    {
     "name": "stderr",
     "output_type": "stream",
     "text": [
      "C:\\Users\\POOJA\\AppData\\Local\\Temp\\ipykernel_8676\\1596279938.py:1: DeprecationWarning: \n",
      "Pyarrow will become a required dependency of pandas in the next major release of pandas (pandas 3.0),\n",
      "(to allow more performant data types, such as the Arrow string type, and better interoperability with other libraries)\n",
      "but was not found to be installed on your system.\n",
      "If this would cause problems for you,\n",
      "please provide us feedback at https://github.com/pandas-dev/pandas/issues/54466\n",
      "        \n",
      "  import pandas as pd\n"
     ]
    }
   ],
   "source": [
    "import pandas as pd\n",
    "\n",
    "data1 = [4, 8, 15, 16, 23, 42]\n",
    "data1_series = pd.Series(data1)\n",
    "print(data1_series)"
   ]
  },
  {
   "cell_type": "markdown",
   "metadata": {},
   "source": [
    "Q2. Create a variable of list type containing 10 elements in it, and apply pandas.Series function on the\n",
    "variable print it."
   ]
  },
  {
   "cell_type": "code",
   "execution_count": 2,
   "metadata": {},
   "outputs": [
    {
     "data": {
      "text/plain": [
       "0      1\n",
       "1      4\n",
       "2      9\n",
       "3     16\n",
       "4     25\n",
       "5     36\n",
       "6     49\n",
       "7     64\n",
       "8     81\n",
       "9    100\n",
       "dtype: int64"
      ]
     },
     "execution_count": 2,
     "metadata": {},
     "output_type": "execute_result"
    }
   ],
   "source": [
    "data2 = [1, 4, 9, 16, 25, 36, 49, 64, 81, 100]\n",
    "pd.Series(data2)"
   ]
  },
  {
   "cell_type": "markdown",
   "metadata": {},
   "source": [
    "Q3. Create a Pandas DataFrame that contains the following data:\n",
    "\n",
    "Name       Age          Gendere\n",
    "\n",
    "Alice      25           Female\n",
    "\n",
    "Bob        30            Male\n",
    "\n",
    "Claire     27           Female\n",
    "\n",
    "\n",
    "Then, print the DataFrame."
   ]
  },
  {
   "cell_type": "code",
   "execution_count": 3,
   "metadata": {},
   "outputs": [
    {
     "data": {
      "text/html": [
       "<div>\n",
       "<style scoped>\n",
       "    .dataframe tbody tr th:only-of-type {\n",
       "        vertical-align: middle;\n",
       "    }\n",
       "\n",
       "    .dataframe tbody tr th {\n",
       "        vertical-align: top;\n",
       "    }\n",
       "\n",
       "    .dataframe thead th {\n",
       "        text-align: right;\n",
       "    }\n",
       "</style>\n",
       "<table border=\"1\" class=\"dataframe\">\n",
       "  <thead>\n",
       "    <tr style=\"text-align: right;\">\n",
       "      <th></th>\n",
       "      <th>0</th>\n",
       "      <th>1</th>\n",
       "      <th>2</th>\n",
       "    </tr>\n",
       "  </thead>\n",
       "  <tbody>\n",
       "    <tr>\n",
       "      <th>0</th>\n",
       "      <td>Name</td>\n",
       "      <td>Age</td>\n",
       "      <td>Gender</td>\n",
       "    </tr>\n",
       "    <tr>\n",
       "      <th>1</th>\n",
       "      <td>Alice</td>\n",
       "      <td>25</td>\n",
       "      <td>Female</td>\n",
       "    </tr>\n",
       "    <tr>\n",
       "      <th>2</th>\n",
       "      <td>Bob</td>\n",
       "      <td>30</td>\n",
       "      <td>Male</td>\n",
       "    </tr>\n",
       "    <tr>\n",
       "      <th>3</th>\n",
       "      <td>Claire</td>\n",
       "      <td>27</td>\n",
       "      <td>Female</td>\n",
       "    </tr>\n",
       "  </tbody>\n",
       "</table>\n",
       "</div>"
      ],
      "text/plain": [
       "        0    1       2\n",
       "0    Name  Age  Gender\n",
       "1   Alice   25  Female\n",
       "2     Bob   30    Male\n",
       "3  Claire   27  Female"
      ]
     },
     "execution_count": 3,
     "metadata": {},
     "output_type": "execute_result"
    }
   ],
   "source": [
    "data3 = [[\"Name\",\"Age\",\"Gender\"],[\"Alice\",25,\"Female\"],[\"Bob\",30,\"Male\"],[\"Claire\",27,\"Female\"]]\n",
    "pd.DataFrame(data3)"
   ]
  },
  {
   "cell_type": "markdown",
   "metadata": {},
   "source": [
    "Q4. What is ‘DataFrame’ in pandas and how is it different from pandas.series? Explain with an example."
   ]
  },
  {
   "cell_type": "markdown",
   "metadata": {},
   "source": [
    " DataFrame is a two-dimensional, tabular data structure with labeled axes (rows and columns). It is similar to a spreadsheet or SQL table and is designed to handle a wide variety of data types. Each column in a DataFrame can be of a different data type, and you can perform various operations like filtering, grouping, and merging on DataFrames.\n",
    "\n",
    " On the other hand, a Pandas Series is a one-dimensional labeled array capable of holding data of any type. It is essentially a single column of a DataFrame. A DataFrame consists of multiple Series, where each Series represents a column."
   ]
  },
  {
   "cell_type": "code",
   "execution_count": 4,
   "metadata": {},
   "outputs": [
    {
     "name": "stdout",
     "output_type": "stream",
     "text": [
      "Series: \n",
      " 0     [Name, Age, Gender]\n",
      "1     [Alice, 25, Female]\n",
      "2         [Bob, 30, Male]\n",
      "3    [Claire, 27, Female]\n",
      "dtype: object\n",
      "DataFrame: \n",
      "         0    1       2\n",
      "0    Name  Age  Gender\n",
      "1   Alice   25  Female\n",
      "2     Bob   30    Male\n",
      "3  Claire   27  Female\n"
     ]
    }
   ],
   "source": [
    "data = [[\"Name\",\"Age\",\"Gender\"],[\"Alice\",25,\"Female\"],[\"Bob\",30,\"Male\"],[\"Claire\",27,\"Female\"]]\n",
    "Series_data = pd.Series(data)\n",
    "df_data = pd.DataFrame(data)\n",
    "print(\"Series: \\n\",Series_data)\n",
    "print(\"DataFrame: \\n\",df_data)"
   ]
  },
  {
   "cell_type": "markdown",
   "metadata": {},
   "source": [
    "Q5. What are some common functions you can use to manipulate data in a Pandas DataFrame? Can\n",
    "you give an example of when you might use one of these functions?"
   ]
  },
  {
   "cell_type": "markdown",
   "metadata": {},
   "source": [
    "Pandas provides a wide range of functions for manipulating data in a DataFrame. Some common functions include:"
   ]
  },
  {
   "cell_type": "code",
   "execution_count": 5,
   "metadata": {},
   "outputs": [],
   "source": [
    "df = pd.read_csv(\"C:\\Python\\Files\\data.csv\")"
   ]
  },
  {
   "cell_type": "markdown",
   "metadata": {},
   "source": [
    "1. head() and tail(): Display the first or last n rows of a DataFrame."
   ]
  },
  {
   "cell_type": "code",
   "execution_count": 6,
   "metadata": {},
   "outputs": [
    {
     "data": {
      "text/html": [
       "<div>\n",
       "<style scoped>\n",
       "    .dataframe tbody tr th:only-of-type {\n",
       "        vertical-align: middle;\n",
       "    }\n",
       "\n",
       "    .dataframe tbody tr th {\n",
       "        vertical-align: top;\n",
       "    }\n",
       "\n",
       "    .dataframe thead th {\n",
       "        text-align: right;\n",
       "    }\n",
       "</style>\n",
       "<table border=\"1\" class=\"dataframe\">\n",
       "  <thead>\n",
       "    <tr style=\"text-align: right;\">\n",
       "      <th></th>\n",
       "      <th>name</th>\n",
       "      <th>surname</th>\n",
       "      <th>gender</th>\n",
       "      <th>age</th>\n",
       "      <th>subject</th>\n",
       "      <th>email_id</th>\n",
       "      <th>phone_number</th>\n",
       "      <th>Unnamed: 7</th>\n",
       "    </tr>\n",
       "  </thead>\n",
       "  <tbody>\n",
       "    <tr>\n",
       "      <th>0</th>\n",
       "      <td>pooja</td>\n",
       "      <td>verma</td>\n",
       "      <td>female</td>\n",
       "      <td>21</td>\n",
       "      <td>maths</td>\n",
       "      <td>pooja@gmail.com</td>\n",
       "      <td>85798228</td>\n",
       "      <td>NaN</td>\n",
       "    </tr>\n",
       "    <tr>\n",
       "      <th>1</th>\n",
       "      <td>aanand</td>\n",
       "      <td>gupta</td>\n",
       "      <td>male</td>\n",
       "      <td>35</td>\n",
       "      <td>biology</td>\n",
       "      <td>aanand@gmail.com</td>\n",
       "      <td>628268865</td>\n",
       "      <td>NaN</td>\n",
       "    </tr>\n",
       "    <tr>\n",
       "      <th>2</th>\n",
       "      <td>dipika</td>\n",
       "      <td>maurya</td>\n",
       "      <td>female</td>\n",
       "      <td>25</td>\n",
       "      <td>Dfarma</td>\n",
       "      <td>dipika@gmail.com</td>\n",
       "      <td>6548652356</td>\n",
       "      <td>NaN</td>\n",
       "    </tr>\n",
       "  </tbody>\n",
       "</table>\n",
       "</div>"
      ],
      "text/plain": [
       "     name surname  gender  age  subject          email_id  phone_number  \\\n",
       "0   pooja   verma  female   21    maths   pooja@gmail.com      85798228   \n",
       "1  aanand   gupta    male   35  biology  aanand@gmail.com     628268865   \n",
       "2  dipika  maurya  female   25   Dfarma  dipika@gmail.com    6548652356   \n",
       "\n",
       "   Unnamed: 7  \n",
       "0         NaN  \n",
       "1         NaN  \n",
       "2         NaN  "
      ]
     },
     "execution_count": 6,
     "metadata": {},
     "output_type": "execute_result"
    }
   ],
   "source": [
    "df.head(3)"
   ]
  },
  {
   "cell_type": "code",
   "execution_count": 7,
   "metadata": {},
   "outputs": [
    {
     "data": {
      "text/html": [
       "<div>\n",
       "<style scoped>\n",
       "    .dataframe tbody tr th:only-of-type {\n",
       "        vertical-align: middle;\n",
       "    }\n",
       "\n",
       "    .dataframe tbody tr th {\n",
       "        vertical-align: top;\n",
       "    }\n",
       "\n",
       "    .dataframe thead th {\n",
       "        text-align: right;\n",
       "    }\n",
       "</style>\n",
       "<table border=\"1\" class=\"dataframe\">\n",
       "  <thead>\n",
       "    <tr style=\"text-align: right;\">\n",
       "      <th></th>\n",
       "      <th>name</th>\n",
       "      <th>surname</th>\n",
       "      <th>gender</th>\n",
       "      <th>age</th>\n",
       "      <th>subject</th>\n",
       "      <th>email_id</th>\n",
       "      <th>phone_number</th>\n",
       "      <th>Unnamed: 7</th>\n",
       "    </tr>\n",
       "  </thead>\n",
       "  <tbody>\n",
       "    <tr>\n",
       "      <th>6</th>\n",
       "      <td>kajal</td>\n",
       "      <td>Singh</td>\n",
       "      <td>female</td>\n",
       "      <td>33</td>\n",
       "      <td>IT</td>\n",
       "      <td>kajal@gmail.com</td>\n",
       "      <td>66869746696</td>\n",
       "      <td>NaN</td>\n",
       "    </tr>\n",
       "    <tr>\n",
       "      <th>7</th>\n",
       "      <td>aaryan</td>\n",
       "      <td>verma</td>\n",
       "      <td>male</td>\n",
       "      <td>36</td>\n",
       "      <td>hindi</td>\n",
       "      <td>aaryan@gmail.com</td>\n",
       "      <td>6586865686</td>\n",
       "      <td>NaN</td>\n",
       "    </tr>\n",
       "    <tr>\n",
       "      <th>8</th>\n",
       "      <td>sanskar</td>\n",
       "      <td>modi</td>\n",
       "      <td>male</td>\n",
       "      <td>22</td>\n",
       "      <td>evs</td>\n",
       "      <td>sanskar@gmail.com</td>\n",
       "      <td>64585268365</td>\n",
       "      <td>NaN</td>\n",
       "    </tr>\n",
       "  </tbody>\n",
       "</table>\n",
       "</div>"
      ],
      "text/plain": [
       "      name surname  gender  age subject           email_id  phone_number  \\\n",
       "6    kajal   Singh  female   33      IT    kajal@gmail.com   66869746696   \n",
       "7   aaryan   verma    male   36   hindi   aaryan@gmail.com    6586865686   \n",
       "8  sanskar    modi    male   22     evs  sanskar@gmail.com   64585268365   \n",
       "\n",
       "   Unnamed: 7  \n",
       "6         NaN  \n",
       "7         NaN  \n",
       "8         NaN  "
      ]
     },
     "execution_count": 7,
     "metadata": {},
     "output_type": "execute_result"
    }
   ],
   "source": [
    "df.tail(3)"
   ]
  },
  {
   "cell_type": "markdown",
   "metadata": {},
   "source": [
    "2. info(): Display a concise summary of the DataFrame, including data types and missing values.\n",
    "\n"
   ]
  },
  {
   "cell_type": "code",
   "execution_count": 8,
   "metadata": {},
   "outputs": [
    {
     "name": "stdout",
     "output_type": "stream",
     "text": [
      "<class 'pandas.core.frame.DataFrame'>\n",
      "RangeIndex: 9 entries, 0 to 8\n",
      "Data columns (total 8 columns):\n",
      " #   Column        Non-Null Count  Dtype  \n",
      "---  ------        --------------  -----  \n",
      " 0   name          9 non-null      object \n",
      " 1   surname       9 non-null      object \n",
      " 2   gender        9 non-null      object \n",
      " 3   age           9 non-null      int64  \n",
      " 4   subject       9 non-null      object \n",
      " 5   email_id      9 non-null      object \n",
      " 6   phone_number  9 non-null      int64  \n",
      " 7   Unnamed: 7    0 non-null      float64\n",
      "dtypes: float64(1), int64(2), object(5)\n",
      "memory usage: 708.0+ bytes\n"
     ]
    }
   ],
   "source": [
    "df.info()"
   ]
  },
  {
   "cell_type": "markdown",
   "metadata": {},
   "source": [
    "3. describe(): Generate descriptive statistics of the DataFrame's numeric columns."
   ]
  },
  {
   "cell_type": "code",
   "execution_count": 9,
   "metadata": {},
   "outputs": [
    {
     "data": {
      "text/html": [
       "<div>\n",
       "<style scoped>\n",
       "    .dataframe tbody tr th:only-of-type {\n",
       "        vertical-align: middle;\n",
       "    }\n",
       "\n",
       "    .dataframe tbody tr th {\n",
       "        vertical-align: top;\n",
       "    }\n",
       "\n",
       "    .dataframe thead th {\n",
       "        text-align: right;\n",
       "    }\n",
       "</style>\n",
       "<table border=\"1\" class=\"dataframe\">\n",
       "  <thead>\n",
       "    <tr style=\"text-align: right;\">\n",
       "      <th></th>\n",
       "      <th>age</th>\n",
       "      <th>phone_number</th>\n",
       "      <th>Unnamed: 7</th>\n",
       "    </tr>\n",
       "  </thead>\n",
       "  <tbody>\n",
       "    <tr>\n",
       "      <th>count</th>\n",
       "      <td>9.000000</td>\n",
       "      <td>9.000000e+00</td>\n",
       "      <td>0.0</td>\n",
       "    </tr>\n",
       "    <tr>\n",
       "      <th>mean</th>\n",
       "      <td>27.888889</td>\n",
       "      <td>2.612398e+10</td>\n",
       "      <td>NaN</td>\n",
       "    </tr>\n",
       "    <tr>\n",
       "      <th>std</th>\n",
       "      <td>6.132790</td>\n",
       "      <td>3.339106e+10</td>\n",
       "      <td>NaN</td>\n",
       "    </tr>\n",
       "    <tr>\n",
       "      <th>min</th>\n",
       "      <td>21.000000</td>\n",
       "      <td>8.579823e+07</td>\n",
       "      <td>NaN</td>\n",
       "    </tr>\n",
       "    <tr>\n",
       "      <th>25%</th>\n",
       "      <td>22.000000</td>\n",
       "      <td>9.786862e+08</td>\n",
       "      <td>NaN</td>\n",
       "    </tr>\n",
       "    <tr>\n",
       "      <th>50%</th>\n",
       "      <td>26.000000</td>\n",
       "      <td>6.586866e+09</td>\n",
       "      <td>NaN</td>\n",
       "    </tr>\n",
       "    <tr>\n",
       "      <th>75%</th>\n",
       "      <td>33.000000</td>\n",
       "      <td>6.458527e+10</td>\n",
       "      <td>NaN</td>\n",
       "    </tr>\n",
       "    <tr>\n",
       "      <th>max</th>\n",
       "      <td>36.000000</td>\n",
       "      <td>7.895469e+10</td>\n",
       "      <td>NaN</td>\n",
       "    </tr>\n",
       "  </tbody>\n",
       "</table>\n",
       "</div>"
      ],
      "text/plain": [
       "             age  phone_number  Unnamed: 7\n",
       "count   9.000000  9.000000e+00         0.0\n",
       "mean   27.888889  2.612398e+10         NaN\n",
       "std     6.132790  3.339106e+10         NaN\n",
       "min    21.000000  8.579823e+07         NaN\n",
       "25%    22.000000  9.786862e+08         NaN\n",
       "50%    26.000000  6.586866e+09         NaN\n",
       "75%    33.000000  6.458527e+10         NaN\n",
       "max    36.000000  7.895469e+10         NaN"
      ]
     },
     "execution_count": 9,
     "metadata": {},
     "output_type": "execute_result"
    }
   ],
   "source": [
    "df.describe()"
   ]
  },
  {
   "cell_type": "markdown",
   "metadata": {},
   "source": [
    "4. shape: Return a tuple representing the dimensions of the DataFrame (rows, columns)."
   ]
  },
  {
   "cell_type": "code",
   "execution_count": 10,
   "metadata": {},
   "outputs": [
    {
     "data": {
      "text/plain": [
       "(9, 8)"
      ]
     },
     "execution_count": 10,
     "metadata": {},
     "output_type": "execute_result"
    }
   ],
   "source": [
    "df.shape"
   ]
  },
  {
   "cell_type": "markdown",
   "metadata": {},
   "source": [
    "5. loc[] and iloc[]: Access a group of rows and columns by labels (loc) or integer-based indexing (iloc)."
   ]
  },
  {
   "cell_type": "code",
   "execution_count": 11,
   "metadata": {},
   "outputs": [
    {
     "data": {
      "text/plain": [
       "'pooja'"
      ]
     },
     "execution_count": 11,
     "metadata": {},
     "output_type": "execute_result"
    }
   ],
   "source": [
    "df.loc[0,'name']    # Access the value in the first row and 'name' column"
   ]
  },
  {
   "cell_type": "markdown",
   "metadata": {},
   "source": [
    "6. sort_values(): Sort the DataFrame by specified column(s)."
   ]
  },
  {
   "cell_type": "code",
   "execution_count": 12,
   "metadata": {},
   "outputs": [
    {
     "data": {
      "text/html": [
       "<div>\n",
       "<style scoped>\n",
       "    .dataframe tbody tr th:only-of-type {\n",
       "        vertical-align: middle;\n",
       "    }\n",
       "\n",
       "    .dataframe tbody tr th {\n",
       "        vertical-align: top;\n",
       "    }\n",
       "\n",
       "    .dataframe thead th {\n",
       "        text-align: right;\n",
       "    }\n",
       "</style>\n",
       "<table border=\"1\" class=\"dataframe\">\n",
       "  <thead>\n",
       "    <tr style=\"text-align: right;\">\n",
       "      <th></th>\n",
       "      <th>name</th>\n",
       "      <th>surname</th>\n",
       "      <th>gender</th>\n",
       "      <th>age</th>\n",
       "      <th>subject</th>\n",
       "      <th>email_id</th>\n",
       "      <th>phone_number</th>\n",
       "      <th>Unnamed: 7</th>\n",
       "    </tr>\n",
       "  </thead>\n",
       "  <tbody>\n",
       "    <tr>\n",
       "      <th>1</th>\n",
       "      <td>aanand</td>\n",
       "      <td>gupta</td>\n",
       "      <td>male</td>\n",
       "      <td>35</td>\n",
       "      <td>biology</td>\n",
       "      <td>aanand@gmail.com</td>\n",
       "      <td>628268865</td>\n",
       "      <td>NaN</td>\n",
       "    </tr>\n",
       "    <tr>\n",
       "      <th>7</th>\n",
       "      <td>aaryan</td>\n",
       "      <td>verma</td>\n",
       "      <td>male</td>\n",
       "      <td>36</td>\n",
       "      <td>hindi</td>\n",
       "      <td>aaryan@gmail.com</td>\n",
       "      <td>6586865686</td>\n",
       "      <td>NaN</td>\n",
       "    </tr>\n",
       "    <tr>\n",
       "      <th>4</th>\n",
       "      <td>anshu</td>\n",
       "      <td>shah</td>\n",
       "      <td>male</td>\n",
       "      <td>26</td>\n",
       "      <td>chemistry</td>\n",
       "      <td>anshu@gmail.com</td>\n",
       "      <td>78954685687</td>\n",
       "      <td>NaN</td>\n",
       "    </tr>\n",
       "    <tr>\n",
       "      <th>2</th>\n",
       "      <td>dipika</td>\n",
       "      <td>maurya</td>\n",
       "      <td>female</td>\n",
       "      <td>25</td>\n",
       "      <td>Dfarma</td>\n",
       "      <td>dipika@gmail.com</td>\n",
       "      <td>6548652356</td>\n",
       "      <td>NaN</td>\n",
       "    </tr>\n",
       "    <tr>\n",
       "      <th>6</th>\n",
       "      <td>kajal</td>\n",
       "      <td>Singh</td>\n",
       "      <td>female</td>\n",
       "      <td>33</td>\n",
       "      <td>IT</td>\n",
       "      <td>kajal@gmail.com</td>\n",
       "      <td>66869746696</td>\n",
       "      <td>NaN</td>\n",
       "    </tr>\n",
       "    <tr>\n",
       "      <th>5</th>\n",
       "      <td>monika</td>\n",
       "      <td>gaikwad</td>\n",
       "      <td>female</td>\n",
       "      <td>21</td>\n",
       "      <td>maths</td>\n",
       "      <td>monika@gmail.com</td>\n",
       "      <td>9877857464</td>\n",
       "      <td>NaN</td>\n",
       "    </tr>\n",
       "    <tr>\n",
       "      <th>3</th>\n",
       "      <td>nikita</td>\n",
       "      <td>waghmare</td>\n",
       "      <td>female</td>\n",
       "      <td>32</td>\n",
       "      <td>nursing</td>\n",
       "      <td>nikita@gmail.com</td>\n",
       "      <td>978686183</td>\n",
       "      <td>NaN</td>\n",
       "    </tr>\n",
       "    <tr>\n",
       "      <th>0</th>\n",
       "      <td>pooja</td>\n",
       "      <td>verma</td>\n",
       "      <td>female</td>\n",
       "      <td>21</td>\n",
       "      <td>maths</td>\n",
       "      <td>pooja@gmail.com</td>\n",
       "      <td>85798228</td>\n",
       "      <td>NaN</td>\n",
       "    </tr>\n",
       "    <tr>\n",
       "      <th>8</th>\n",
       "      <td>sanskar</td>\n",
       "      <td>modi</td>\n",
       "      <td>male</td>\n",
       "      <td>22</td>\n",
       "      <td>evs</td>\n",
       "      <td>sanskar@gmail.com</td>\n",
       "      <td>64585268365</td>\n",
       "      <td>NaN</td>\n",
       "    </tr>\n",
       "  </tbody>\n",
       "</table>\n",
       "</div>"
      ],
      "text/plain": [
       "      name   surname  gender  age    subject           email_id  phone_number  \\\n",
       "1   aanand     gupta    male   35    biology   aanand@gmail.com     628268865   \n",
       "7   aaryan     verma    male   36      hindi   aaryan@gmail.com    6586865686   \n",
       "4    anshu      shah    male   26  chemistry    anshu@gmail.com   78954685687   \n",
       "2   dipika    maurya  female   25     Dfarma   dipika@gmail.com    6548652356   \n",
       "6    kajal     Singh  female   33         IT    kajal@gmail.com   66869746696   \n",
       "5   monika   gaikwad  female   21      maths   monika@gmail.com    9877857464   \n",
       "3   nikita  waghmare  female   32    nursing   nikita@gmail.com     978686183   \n",
       "0    pooja     verma  female   21      maths    pooja@gmail.com      85798228   \n",
       "8  sanskar      modi    male   22        evs  sanskar@gmail.com   64585268365   \n",
       "\n",
       "   Unnamed: 7  \n",
       "1         NaN  \n",
       "7         NaN  \n",
       "4         NaN  \n",
       "2         NaN  \n",
       "6         NaN  \n",
       "5         NaN  \n",
       "3         NaN  \n",
       "0         NaN  \n",
       "8         NaN  "
      ]
     },
     "execution_count": 12,
     "metadata": {},
     "output_type": "execute_result"
    }
   ],
   "source": [
    "df.sort_values(by='name', ascending=True)  #sort by name column in ascending order"
   ]
  },
  {
   "cell_type": "code",
   "execution_count": 13,
   "metadata": {},
   "outputs": [
    {
     "data": {
      "text/html": [
       "<div>\n",
       "<style scoped>\n",
       "    .dataframe tbody tr th:only-of-type {\n",
       "        vertical-align: middle;\n",
       "    }\n",
       "\n",
       "    .dataframe tbody tr th {\n",
       "        vertical-align: top;\n",
       "    }\n",
       "\n",
       "    .dataframe thead th {\n",
       "        text-align: right;\n",
       "    }\n",
       "</style>\n",
       "<table border=\"1\" class=\"dataframe\">\n",
       "  <thead>\n",
       "    <tr style=\"text-align: right;\">\n",
       "      <th></th>\n",
       "      <th>name</th>\n",
       "      <th>surname</th>\n",
       "      <th>gender</th>\n",
       "      <th>age</th>\n",
       "      <th>subject</th>\n",
       "      <th>email_id</th>\n",
       "      <th>phone_number</th>\n",
       "      <th>Unnamed: 7</th>\n",
       "    </tr>\n",
       "  </thead>\n",
       "  <tbody>\n",
       "    <tr>\n",
       "      <th>3</th>\n",
       "      <td>nikita</td>\n",
       "      <td>waghmare</td>\n",
       "      <td>female</td>\n",
       "      <td>32</td>\n",
       "      <td>nursing</td>\n",
       "      <td>nikita@gmail.com</td>\n",
       "      <td>978686183</td>\n",
       "      <td>NaN</td>\n",
       "    </tr>\n",
       "    <tr>\n",
       "      <th>0</th>\n",
       "      <td>pooja</td>\n",
       "      <td>verma</td>\n",
       "      <td>female</td>\n",
       "      <td>21</td>\n",
       "      <td>maths</td>\n",
       "      <td>pooja@gmail.com</td>\n",
       "      <td>85798228</td>\n",
       "      <td>NaN</td>\n",
       "    </tr>\n",
       "    <tr>\n",
       "      <th>7</th>\n",
       "      <td>aaryan</td>\n",
       "      <td>verma</td>\n",
       "      <td>male</td>\n",
       "      <td>36</td>\n",
       "      <td>hindi</td>\n",
       "      <td>aaryan@gmail.com</td>\n",
       "      <td>6586865686</td>\n",
       "      <td>NaN</td>\n",
       "    </tr>\n",
       "    <tr>\n",
       "      <th>4</th>\n",
       "      <td>anshu</td>\n",
       "      <td>shah</td>\n",
       "      <td>male</td>\n",
       "      <td>26</td>\n",
       "      <td>chemistry</td>\n",
       "      <td>anshu@gmail.com</td>\n",
       "      <td>78954685687</td>\n",
       "      <td>NaN</td>\n",
       "    </tr>\n",
       "    <tr>\n",
       "      <th>8</th>\n",
       "      <td>sanskar</td>\n",
       "      <td>modi</td>\n",
       "      <td>male</td>\n",
       "      <td>22</td>\n",
       "      <td>evs</td>\n",
       "      <td>sanskar@gmail.com</td>\n",
       "      <td>64585268365</td>\n",
       "      <td>NaN</td>\n",
       "    </tr>\n",
       "    <tr>\n",
       "      <th>2</th>\n",
       "      <td>dipika</td>\n",
       "      <td>maurya</td>\n",
       "      <td>female</td>\n",
       "      <td>25</td>\n",
       "      <td>Dfarma</td>\n",
       "      <td>dipika@gmail.com</td>\n",
       "      <td>6548652356</td>\n",
       "      <td>NaN</td>\n",
       "    </tr>\n",
       "    <tr>\n",
       "      <th>1</th>\n",
       "      <td>aanand</td>\n",
       "      <td>gupta</td>\n",
       "      <td>male</td>\n",
       "      <td>35</td>\n",
       "      <td>biology</td>\n",
       "      <td>aanand@gmail.com</td>\n",
       "      <td>628268865</td>\n",
       "      <td>NaN</td>\n",
       "    </tr>\n",
       "    <tr>\n",
       "      <th>5</th>\n",
       "      <td>monika</td>\n",
       "      <td>gaikwad</td>\n",
       "      <td>female</td>\n",
       "      <td>21</td>\n",
       "      <td>maths</td>\n",
       "      <td>monika@gmail.com</td>\n",
       "      <td>9877857464</td>\n",
       "      <td>NaN</td>\n",
       "    </tr>\n",
       "    <tr>\n",
       "      <th>6</th>\n",
       "      <td>kajal</td>\n",
       "      <td>Singh</td>\n",
       "      <td>female</td>\n",
       "      <td>33</td>\n",
       "      <td>IT</td>\n",
       "      <td>kajal@gmail.com</td>\n",
       "      <td>66869746696</td>\n",
       "      <td>NaN</td>\n",
       "    </tr>\n",
       "  </tbody>\n",
       "</table>\n",
       "</div>"
      ],
      "text/plain": [
       "      name   surname  gender  age    subject           email_id  phone_number  \\\n",
       "3   nikita  waghmare  female   32    nursing   nikita@gmail.com     978686183   \n",
       "0    pooja     verma  female   21      maths    pooja@gmail.com      85798228   \n",
       "7   aaryan     verma    male   36      hindi   aaryan@gmail.com    6586865686   \n",
       "4    anshu      shah    male   26  chemistry    anshu@gmail.com   78954685687   \n",
       "8  sanskar      modi    male   22        evs  sanskar@gmail.com   64585268365   \n",
       "2   dipika    maurya  female   25     Dfarma   dipika@gmail.com    6548652356   \n",
       "1   aanand     gupta    male   35    biology   aanand@gmail.com     628268865   \n",
       "5   monika   gaikwad  female   21      maths   monika@gmail.com    9877857464   \n",
       "6    kajal     Singh  female   33         IT    kajal@gmail.com   66869746696   \n",
       "\n",
       "   Unnamed: 7  \n",
       "3         NaN  \n",
       "0         NaN  \n",
       "7         NaN  \n",
       "4         NaN  \n",
       "8         NaN  \n",
       "2         NaN  \n",
       "1         NaN  \n",
       "5         NaN  \n",
       "6         NaN  "
      ]
     },
     "execution_count": 13,
     "metadata": {},
     "output_type": "execute_result"
    }
   ],
   "source": [
    "df.sort_values(by='surname', ascending=False)  #sort by surname column in descending order"
   ]
  },
  {
   "cell_type": "markdown",
   "metadata": {},
   "source": [
    "7. groupby(): Group DataFrame by a column and perform aggregate functions."
   ]
  },
  {
   "cell_type": "code",
   "execution_count": 14,
   "metadata": {},
   "outputs": [
    {
     "data": {
      "text/plain": [
       "gender\n",
       "female    5\n",
       "male      4\n",
       "Name: gender, dtype: int64"
      ]
     },
     "execution_count": 14,
     "metadata": {},
     "output_type": "execute_result"
    }
   ],
   "source": [
    "df.groupby('gender')['gender'].count()  #count the gender by gender"
   ]
  },
  {
   "cell_type": "code",
   "execution_count": 15,
   "metadata": {},
   "outputs": [
    {
     "data": {
      "text/plain": [
       "gender\n",
       "female    26.40\n",
       "male      29.75\n",
       "Name: age, dtype: float64"
      ]
     },
     "execution_count": 15,
     "metadata": {},
     "output_type": "execute_result"
    }
   ],
   "source": [
    "df.groupby('gender')['age'].mean()      #avg age by gender"
   ]
  },
  {
   "cell_type": "markdown",
   "metadata": {},
   "source": [
    "8. drop(): Remove specified rows or columns."
   ]
  },
  {
   "cell_type": "code",
   "execution_count": 16,
   "metadata": {},
   "outputs": [
    {
     "data": {
      "text/html": [
       "<div>\n",
       "<style scoped>\n",
       "    .dataframe tbody tr th:only-of-type {\n",
       "        vertical-align: middle;\n",
       "    }\n",
       "\n",
       "    .dataframe tbody tr th {\n",
       "        vertical-align: top;\n",
       "    }\n",
       "\n",
       "    .dataframe thead th {\n",
       "        text-align: right;\n",
       "    }\n",
       "</style>\n",
       "<table border=\"1\" class=\"dataframe\">\n",
       "  <thead>\n",
       "    <tr style=\"text-align: right;\">\n",
       "      <th></th>\n",
       "      <th>name</th>\n",
       "      <th>surname</th>\n",
       "      <th>gender</th>\n",
       "      <th>age</th>\n",
       "      <th>subject</th>\n",
       "      <th>email_id</th>\n",
       "      <th>phone_number</th>\n",
       "      <th>Unnamed: 7</th>\n",
       "    </tr>\n",
       "  </thead>\n",
       "  <tbody>\n",
       "    <tr>\n",
       "      <th>0</th>\n",
       "      <td>pooja</td>\n",
       "      <td>verma</td>\n",
       "      <td>female</td>\n",
       "      <td>21</td>\n",
       "      <td>maths</td>\n",
       "      <td>pooja@gmail.com</td>\n",
       "      <td>85798228</td>\n",
       "      <td>NaN</td>\n",
       "    </tr>\n",
       "    <tr>\n",
       "      <th>1</th>\n",
       "      <td>aanand</td>\n",
       "      <td>gupta</td>\n",
       "      <td>male</td>\n",
       "      <td>35</td>\n",
       "      <td>biology</td>\n",
       "      <td>aanand@gmail.com</td>\n",
       "      <td>628268865</td>\n",
       "      <td>NaN</td>\n",
       "    </tr>\n",
       "    <tr>\n",
       "      <th>2</th>\n",
       "      <td>dipika</td>\n",
       "      <td>maurya</td>\n",
       "      <td>female</td>\n",
       "      <td>25</td>\n",
       "      <td>Dfarma</td>\n",
       "      <td>dipika@gmail.com</td>\n",
       "      <td>6548652356</td>\n",
       "      <td>NaN</td>\n",
       "    </tr>\n",
       "    <tr>\n",
       "      <th>3</th>\n",
       "      <td>nikita</td>\n",
       "      <td>waghmare</td>\n",
       "      <td>female</td>\n",
       "      <td>32</td>\n",
       "      <td>nursing</td>\n",
       "      <td>nikita@gmail.com</td>\n",
       "      <td>978686183</td>\n",
       "      <td>NaN</td>\n",
       "    </tr>\n",
       "    <tr>\n",
       "      <th>4</th>\n",
       "      <td>anshu</td>\n",
       "      <td>shah</td>\n",
       "      <td>male</td>\n",
       "      <td>26</td>\n",
       "      <td>chemistry</td>\n",
       "      <td>anshu@gmail.com</td>\n",
       "      <td>78954685687</td>\n",
       "      <td>NaN</td>\n",
       "    </tr>\n",
       "    <tr>\n",
       "      <th>5</th>\n",
       "      <td>monika</td>\n",
       "      <td>gaikwad</td>\n",
       "      <td>female</td>\n",
       "      <td>21</td>\n",
       "      <td>maths</td>\n",
       "      <td>monika@gmail.com</td>\n",
       "      <td>9877857464</td>\n",
       "      <td>NaN</td>\n",
       "    </tr>\n",
       "    <tr>\n",
       "      <th>6</th>\n",
       "      <td>kajal</td>\n",
       "      <td>Singh</td>\n",
       "      <td>female</td>\n",
       "      <td>33</td>\n",
       "      <td>IT</td>\n",
       "      <td>kajal@gmail.com</td>\n",
       "      <td>66869746696</td>\n",
       "      <td>NaN</td>\n",
       "    </tr>\n",
       "    <tr>\n",
       "      <th>7</th>\n",
       "      <td>aaryan</td>\n",
       "      <td>verma</td>\n",
       "      <td>male</td>\n",
       "      <td>36</td>\n",
       "      <td>hindi</td>\n",
       "      <td>aaryan@gmail.com</td>\n",
       "      <td>6586865686</td>\n",
       "      <td>NaN</td>\n",
       "    </tr>\n",
       "  </tbody>\n",
       "</table>\n",
       "</div>"
      ],
      "text/plain": [
       "     name   surname  gender  age    subject          email_id  phone_number  \\\n",
       "0   pooja     verma  female   21      maths   pooja@gmail.com      85798228   \n",
       "1  aanand     gupta    male   35    biology  aanand@gmail.com     628268865   \n",
       "2  dipika    maurya  female   25     Dfarma  dipika@gmail.com    6548652356   \n",
       "3  nikita  waghmare  female   32    nursing  nikita@gmail.com     978686183   \n",
       "4   anshu      shah    male   26  chemistry   anshu@gmail.com   78954685687   \n",
       "5  monika   gaikwad  female   21      maths  monika@gmail.com    9877857464   \n",
       "6   kajal     Singh  female   33         IT   kajal@gmail.com   66869746696   \n",
       "7  aaryan     verma    male   36      hindi  aaryan@gmail.com    6586865686   \n",
       "\n",
       "   Unnamed: 7  \n",
       "0         NaN  \n",
       "1         NaN  \n",
       "2         NaN  \n",
       "3         NaN  \n",
       "4         NaN  \n",
       "5         NaN  \n",
       "6         NaN  \n",
       "7         NaN  "
      ]
     },
     "execution_count": 16,
     "metadata": {},
     "output_type": "execute_result"
    }
   ],
   "source": [
    "df.drop(index=8)    #remove the row with index 8"
   ]
  },
  {
   "cell_type": "code",
   "execution_count": 17,
   "metadata": {},
   "outputs": [
    {
     "data": {
      "text/html": [
       "<div>\n",
       "<style scoped>\n",
       "    .dataframe tbody tr th:only-of-type {\n",
       "        vertical-align: middle;\n",
       "    }\n",
       "\n",
       "    .dataframe tbody tr th {\n",
       "        vertical-align: top;\n",
       "    }\n",
       "\n",
       "    .dataframe thead th {\n",
       "        text-align: right;\n",
       "    }\n",
       "</style>\n",
       "<table border=\"1\" class=\"dataframe\">\n",
       "  <thead>\n",
       "    <tr style=\"text-align: right;\">\n",
       "      <th></th>\n",
       "      <th>name</th>\n",
       "      <th>surname</th>\n",
       "      <th>gender</th>\n",
       "      <th>age</th>\n",
       "      <th>subject</th>\n",
       "      <th>email_id</th>\n",
       "      <th>phone_number</th>\n",
       "      <th>Unnamed: 7</th>\n",
       "    </tr>\n",
       "  </thead>\n",
       "  <tbody>\n",
       "    <tr>\n",
       "      <th>0</th>\n",
       "      <td>pooja</td>\n",
       "      <td>verma</td>\n",
       "      <td>female</td>\n",
       "      <td>21</td>\n",
       "      <td>maths</td>\n",
       "      <td>pooja@gmail.com</td>\n",
       "      <td>85798228</td>\n",
       "      <td>NaN</td>\n",
       "    </tr>\n",
       "    <tr>\n",
       "      <th>1</th>\n",
       "      <td>aanand</td>\n",
       "      <td>gupta</td>\n",
       "      <td>male</td>\n",
       "      <td>35</td>\n",
       "      <td>biology</td>\n",
       "      <td>aanand@gmail.com</td>\n",
       "      <td>628268865</td>\n",
       "      <td>NaN</td>\n",
       "    </tr>\n",
       "    <tr>\n",
       "      <th>2</th>\n",
       "      <td>dipika</td>\n",
       "      <td>maurya</td>\n",
       "      <td>female</td>\n",
       "      <td>25</td>\n",
       "      <td>Dfarma</td>\n",
       "      <td>dipika@gmail.com</td>\n",
       "      <td>6548652356</td>\n",
       "      <td>NaN</td>\n",
       "    </tr>\n",
       "    <tr>\n",
       "      <th>3</th>\n",
       "      <td>nikita</td>\n",
       "      <td>waghmare</td>\n",
       "      <td>female</td>\n",
       "      <td>32</td>\n",
       "      <td>nursing</td>\n",
       "      <td>nikita@gmail.com</td>\n",
       "      <td>978686183</td>\n",
       "      <td>NaN</td>\n",
       "    </tr>\n",
       "    <tr>\n",
       "      <th>4</th>\n",
       "      <td>anshu</td>\n",
       "      <td>shah</td>\n",
       "      <td>male</td>\n",
       "      <td>26</td>\n",
       "      <td>chemistry</td>\n",
       "      <td>anshu@gmail.com</td>\n",
       "      <td>78954685687</td>\n",
       "      <td>NaN</td>\n",
       "    </tr>\n",
       "    <tr>\n",
       "      <th>5</th>\n",
       "      <td>monika</td>\n",
       "      <td>gaikwad</td>\n",
       "      <td>female</td>\n",
       "      <td>21</td>\n",
       "      <td>maths</td>\n",
       "      <td>monika@gmail.com</td>\n",
       "      <td>9877857464</td>\n",
       "      <td>NaN</td>\n",
       "    </tr>\n",
       "    <tr>\n",
       "      <th>6</th>\n",
       "      <td>kajal</td>\n",
       "      <td>Singh</td>\n",
       "      <td>female</td>\n",
       "      <td>33</td>\n",
       "      <td>IT</td>\n",
       "      <td>kajal@gmail.com</td>\n",
       "      <td>66869746696</td>\n",
       "      <td>NaN</td>\n",
       "    </tr>\n",
       "    <tr>\n",
       "      <th>7</th>\n",
       "      <td>aaryan</td>\n",
       "      <td>verma</td>\n",
       "      <td>male</td>\n",
       "      <td>36</td>\n",
       "      <td>hindi</td>\n",
       "      <td>aaryan@gmail.com</td>\n",
       "      <td>6586865686</td>\n",
       "      <td>NaN</td>\n",
       "    </tr>\n",
       "    <tr>\n",
       "      <th>8</th>\n",
       "      <td>sanskar</td>\n",
       "      <td>modi</td>\n",
       "      <td>male</td>\n",
       "      <td>22</td>\n",
       "      <td>evs</td>\n",
       "      <td>sanskar@gmail.com</td>\n",
       "      <td>64585268365</td>\n",
       "      <td>NaN</td>\n",
       "    </tr>\n",
       "  </tbody>\n",
       "</table>\n",
       "</div>"
      ],
      "text/plain": [
       "      name   surname  gender  age    subject           email_id  phone_number  \\\n",
       "0    pooja     verma  female   21      maths    pooja@gmail.com      85798228   \n",
       "1   aanand     gupta    male   35    biology   aanand@gmail.com     628268865   \n",
       "2   dipika    maurya  female   25     Dfarma   dipika@gmail.com    6548652356   \n",
       "3   nikita  waghmare  female   32    nursing   nikita@gmail.com     978686183   \n",
       "4    anshu      shah    male   26  chemistry    anshu@gmail.com   78954685687   \n",
       "5   monika   gaikwad  female   21      maths   monika@gmail.com    9877857464   \n",
       "6    kajal     Singh  female   33         IT    kajal@gmail.com   66869746696   \n",
       "7   aaryan     verma    male   36      hindi   aaryan@gmail.com    6586865686   \n",
       "8  sanskar      modi    male   22        evs  sanskar@gmail.com   64585268365   \n",
       "\n",
       "   Unnamed: 7  \n",
       "0         NaN  \n",
       "1         NaN  \n",
       "2         NaN  \n",
       "3         NaN  \n",
       "4         NaN  \n",
       "5         NaN  \n",
       "6         NaN  \n",
       "7         NaN  \n",
       "8         NaN  "
      ]
     },
     "execution_count": 17,
     "metadata": {},
     "output_type": "execute_result"
    }
   ],
   "source": [
    "df"
   ]
  },
  {
   "cell_type": "markdown",
   "metadata": {},
   "source": [
    "9. fillna(): Fill missing values with a specified value or a calculated one."
   ]
  },
  {
   "cell_type": "code",
   "execution_count": 18,
   "metadata": {},
   "outputs": [
    {
     "data": {
      "text/plain": [
       "0    27.888889\n",
       "1    27.888889\n",
       "2    27.888889\n",
       "3    27.888889\n",
       "4    27.888889\n",
       "5    27.888889\n",
       "6    27.888889\n",
       "7    27.888889\n",
       "8    27.888889\n",
       "Name: Unnamed: 7, dtype: float64"
      ]
     },
     "execution_count": 18,
     "metadata": {},
     "output_type": "execute_result"
    }
   ],
   "source": [
    "df['Unnamed: 7'].fillna(df['age'].mean())"
   ]
  },
  {
   "cell_type": "markdown",
   "metadata": {},
   "source": [
    "10. apply(): Apply a function along the axis of the DataFrame."
   ]
  },
  {
   "cell_type": "code",
   "execution_count": 19,
   "metadata": {},
   "outputs": [],
   "source": [
    "col = df['age']\n",
    "df['age'] = df['age'].apply(lambda x : x + 2)    #increase age with 2year"
   ]
  },
  {
   "cell_type": "code",
   "execution_count": 20,
   "metadata": {},
   "outputs": [
    {
     "name": "stdout",
     "output_type": "stream",
     "text": [
      "Before Increment: \n",
      " 0    21\n",
      "1    35\n",
      "2    25\n",
      "3    32\n",
      "4    26\n",
      "5    21\n",
      "6    33\n",
      "7    36\n",
      "8    22\n",
      "Name: age, dtype: int64\n",
      "After Increment by 2year: \n",
      " 0    23\n",
      "1    37\n",
      "2    27\n",
      "3    34\n",
      "4    28\n",
      "5    23\n",
      "6    35\n",
      "7    38\n",
      "8    24\n",
      "Name: age, dtype: int64\n"
     ]
    }
   ],
   "source": [
    "print(\"Before Increment: \\n\",col)\n",
    "print(\"After Increment by 2year: \\n\",df['age'])"
   ]
  },
  {
   "cell_type": "markdown",
   "metadata": {},
   "source": [
    "Q6. Which of the following is mutable in nature Series, DataFrame, Panel?"
   ]
  },
  {
   "cell_type": "markdown",
   "metadata": {},
   "source": [
    "Series: We can change the values of a Series after it has been created."
   ]
  },
  {
   "cell_type": "code",
   "execution_count": 21,
   "metadata": {},
   "outputs": [
    {
     "name": "stdout",
     "output_type": "stream",
     "text": [
      "0     1\n",
      "1     2\n",
      "2    15\n",
      "3     4\n",
      "4     5\n",
      "dtype: int64\n"
     ]
    }
   ],
   "source": [
    "my_series = pd.Series([1,2,3,4,5])\n",
    "my_series[2] =15\n",
    "print(my_series)"
   ]
  },
  {
   "cell_type": "markdown",
   "metadata": {},
   "source": [
    "DataFrame: We can modify values, add or remove columns, and perform various other operations on a DataFrame. "
   ]
  },
  {
   "cell_type": "code",
   "execution_count": 27,
   "metadata": {},
   "outputs": [
    {
     "name": "stdout",
     "output_type": "stream",
     "text": [
      "     name  age Address\n",
      "0   pooja   20  Mumbai\n",
      "1  shanti   25    pune\n",
      "2  dipika   22   Nasik\n"
     ]
    }
   ],
   "source": [
    "data4 = {'name':[\"pooja\",\"shanti\",\"dipika\"],'age':[20,21,22]}\n",
    "df = pd.DataFrame(data4)\n",
    "df.loc[1,'age'] = 25    #modifying at row 1 of age column\n",
    "df['Address'] = ['Mumbai','pune','Nasik']    #add new column\n",
    "print(df)"
   ]
  },
  {
   "cell_type": "markdown",
   "metadata": {},
   "source": [
    "Q7. Create a DataFrame using multiple Series. Explain with an example."
   ]
  },
  {
   "cell_type": "code",
   "execution_count": 28,
   "metadata": {},
   "outputs": [
    {
     "name": "stdout",
     "output_type": "stream",
     "text": [
      "   Number  Square  Cube\n",
      "0       1       1     1\n",
      "1       2       4     8\n",
      "2       3       9    27\n",
      "3       4      16    64\n",
      "4       5      25   125\n"
     ]
    }
   ],
   "source": [
    "no_series = pd.Series([1,2,3,4,5] , name =\"Number\")\n",
    "sqr_series = pd.Series([1,4,9,16,25] , name = \"Square\")\n",
    "cube_series = pd.Series([1,8,27,64,125] ,name = \"Cube\")\n",
    " \n",
    "data5 = {'Number':no_series , 'Square':sqr_series , 'Cube':cube_series}\n",
    "df = pd.DataFrame(data5)\n",
    "print(df)"
   ]
  },
  {
   "cell_type": "code",
   "execution_count": null,
   "metadata": {},
   "outputs": [],
   "source": []
  }
 ],
 "metadata": {
  "kernelspec": {
   "display_name": "Python 3",
   "language": "python",
   "name": "python3"
  },
  "language_info": {
   "codemirror_mode": {
    "name": "ipython",
    "version": 3
   },
   "file_extension": ".py",
   "mimetype": "text/x-python",
   "name": "python",
   "nbconvert_exporter": "python",
   "pygments_lexer": "ipython3",
   "version": "3.11.7"
  }
 },
 "nbformat": 4,
 "nbformat_minor": 2
}
