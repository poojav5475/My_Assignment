{
 "cells": [
  {
   "cell_type": "markdown",
   "metadata": {},
   "source": [
    "Q1. Explain GET and POST methods."
   ]
  },
  {
   "cell_type": "markdown",
   "metadata": {},
   "source": [
    "* GET Method:\n",
    "\n",
    "1. Purpose: Used to request data from a specified resource.\n",
    "2. Parameters: Data is sent in the URL as a query string. Parameters are visible in the URL.\n",
    "3. Security: Less secure for sensitive data as parameters are visible in the URL.\n",
    "4. Caching: Data can be cached, and the request is idempotent (multiple identical requests will have the same effect as a single request).\n",
    "5. Idempotent: Yes, because it only retrieves data and does not change the state of the server.\n",
    "\n",
    "* POST Method:\n",
    "\n",
    "1. Purpose: Used to submit data to be processed to a specified resource.\n",
    "2. Parameters: Data is sent in the body of the HTTP request. Parameters are not visible in the URL.\n",
    "3. Security: More secure for sensitive data as parameters are not visible in the URL. Suitable for handling large amounts of data.\n",
    "4. Caching: Data is not cached, and the request is not idempotent.\n",
    "5. Idempotent: No, because it may change the state of the server with each submission."
   ]
  },
  {
   "cell_type": "markdown",
   "metadata": {},
   "source": [
    "Q2. Why is request used in Flask?"
   ]
  },
  {
   "cell_type": "markdown",
   "metadata": {},
   "source": [
    "In Flask, the request object is used to access incoming request data when processing a client's request. It provides a convenient way to extract information from the HTTP request made by a client, such as form data, query parameters, headers, and more. The request object is part of the Flask framework and is an instance of the Request class.\n",
    "\n",
    "* Here are some common use cases for the request object in Flask:\n",
    "\n",
    "1. Accessing Form Data: When a client submits a form, the form data is included in the request. The request.form attribute allows you to access this data.\n",
    "2. Query Parameters: The request.args attribute provides access to the query parameters in the URL.\n",
    "3. Accessing Headers: Information in the request headers can be accessed using request.headers.\n",
    "4. Accessing Cookies: The request.cookies attribute allows you to access cookies sent by the client.\n"
   ]
  },
  {
   "cell_type": "markdown",
   "metadata": {},
   "source": [
    "Q3. Why is redirect() used in Flask?"
   ]
  },
  {
   "cell_type": "markdown",
   "metadata": {},
   "source": [
    "\n",
    "In Flask, the redirect() function is used to redirect the client's web browser to a different URL. This is particularly useful in web applications when you want to send the user to another page after they perform a certain action or when a specific route is accessed. The redirect() function generates an HTTP response with a 302 status code (temporary redirect) and a Location header indicating the URL to which the client should be redirected."
   ]
  },
  {
   "cell_type": "markdown",
   "metadata": {},
   "source": [
    "Q4. What are templates in Flask? Why is the render_template() function used?"
   ]
  },
  {
   "cell_type": "markdown",
   "metadata": {},
   "source": [
    "In Flask, templates are used to separate the structure of an HTML page from the logic in the application. Templates allow developers to create dynamic web pages by embedding placeholders (variables) and control structures (like loops and conditionals) in the HTML code. This separation of concerns makes it easier to manage and maintain the codebase, as it enhances the readability and organization of the project.\n",
    "\n",
    "The render_template() function in Flask is used to render HTML templates and return them as part of the HTTP response. It takes the name of the template file as an argument (typically located in a \"templates\" folder within the Flask project) and any additional data that should be passed to the template."
   ]
  },
  {
   "cell_type": "markdown",
   "metadata": {},
   "source": [
    "Q5. Create a simple API. Use Postman to test it. Attach the screenshot of the output in the Jupyter Notebook."
   ]
  },
  {
   "cell_type": "markdown",
   "metadata": {},
   "source": []
  }
 ],
 "metadata": {
  "language_info": {
   "name": "python"
  }
 },
 "nbformat": 4,
 "nbformat_minor": 2
}
